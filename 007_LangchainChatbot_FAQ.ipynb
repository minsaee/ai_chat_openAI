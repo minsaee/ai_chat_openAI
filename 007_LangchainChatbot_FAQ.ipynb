{
  "nbformat": 4,
  "nbformat_minor": 0,
  "metadata": {
    "colab": {
      "provenance": [],
      "authorship_tag": "ABX9TyNAuxVFlcNBx+ZgYyvqvx1B",
      "include_colab_link": true
    },
    "kernelspec": {
      "name": "python3",
      "display_name": "Python 3"
    },
    "language_info": {
      "name": "python"
    }
  },
  "cells": [
    {
      "cell_type": "markdown",
      "metadata": {
        "id": "view-in-github",
        "colab_type": "text"
      },
      "source": [
        "<a href=\"https://colab.research.google.com/github/minsaee/ai_chat_openAI/blob/master/007_LangchainChatbot_FAQ.ipynb\" target=\"_parent\"><img src=\"https://colab.research.google.com/assets/colab-badge.svg\" alt=\"Open In Colab\"/></a>"
      ]
    },
    {
      "cell_type": "code",
      "execution_count": 1,
      "metadata": {
        "colab": {
          "base_uri": "https://localhost:8080/"
        },
        "id": "99fPFndx6bz6",
        "outputId": "031d768c-fe3d-4685-f1a7-212f08731f30"
      },
      "outputs": [
        {
          "output_type": "stream",
          "name": "stdout",
          "text": [
            "Mounted at /content/drive\n",
            "/content/drive/MyDrive/ai_chat_openAI\n"
          ]
        }
      ],
      "source": [
        "from google.colab import drive\n",
        "drive.mount('/content/drive')\n",
        "\n",
        "%cd '/content/drive/MyDrive/ai_chat_openAI'"
      ]
    },
    {
      "cell_type": "code",
      "source": [
        "!pip install langchain openai==0.28.1 tiktoken chromadb"
      ],
      "metadata": {
        "colab": {
          "base_uri": "https://localhost:8080/"
        },
        "id": "PtFR15nF6wtb",
        "outputId": "6aec5173-bb00-408d-8b56-555f3615e682"
      },
      "execution_count": 2,
      "outputs": [
        {
          "output_type": "stream",
          "name": "stdout",
          "text": [
            "Collecting langchain\n",
            "  Downloading langchain-0.0.354-py3-none-any.whl (803 kB)\n",
            "\u001b[2K     \u001b[90m━━━━━━━━━━━━━━━━━━━━━━━━━━━━━━━━━━━━━━━━\u001b[0m \u001b[32m803.3/803.3 kB\u001b[0m \u001b[31m7.3 MB/s\u001b[0m eta \u001b[36m0:00:00\u001b[0m\n",
            "\u001b[?25hCollecting openai==0.28.1\n",
            "  Downloading openai-0.28.1-py3-none-any.whl (76 kB)\n",
            "\u001b[2K     \u001b[90m━━━━━━━━━━━━━━━━━━━━━━━━━━━━━━━━━━━━━━━━\u001b[0m \u001b[32m77.0/77.0 kB\u001b[0m \u001b[31m7.1 MB/s\u001b[0m eta \u001b[36m0:00:00\u001b[0m\n",
            "\u001b[?25hCollecting tiktoken\n",
            "  Downloading tiktoken-0.5.2-cp310-cp310-manylinux_2_17_x86_64.manylinux2014_x86_64.whl (2.0 MB)\n",
            "\u001b[2K     \u001b[90m━━━━━━━━━━━━━━━━━━━━━━━━━━━━━━━━━━━━━━━━\u001b[0m \u001b[32m2.0/2.0 MB\u001b[0m \u001b[31m39.1 MB/s\u001b[0m eta \u001b[36m0:00:00\u001b[0m\n",
            "\u001b[?25hCollecting chromadb\n",
            "  Downloading chromadb-0.4.22-py3-none-any.whl (509 kB)\n",
            "\u001b[2K     \u001b[90m━━━━━━━━━━━━━━━━━━━━━━━━━━━━━━━━━━━━━━━━\u001b[0m \u001b[32m509.0/509.0 kB\u001b[0m \u001b[31m22.6 MB/s\u001b[0m eta \u001b[36m0:00:00\u001b[0m\n",
            "\u001b[?25hRequirement already satisfied: requests>=2.20 in /usr/local/lib/python3.10/dist-packages (from openai==0.28.1) (2.31.0)\n",
            "Requirement already satisfied: tqdm in /usr/local/lib/python3.10/dist-packages (from openai==0.28.1) (4.66.1)\n",
            "Requirement already satisfied: aiohttp in /usr/local/lib/python3.10/dist-packages (from openai==0.28.1) (3.9.1)\n",
            "Requirement already satisfied: PyYAML>=5.3 in /usr/local/lib/python3.10/dist-packages (from langchain) (6.0.1)\n",
            "Requirement already satisfied: SQLAlchemy<3,>=1.4 in /usr/local/lib/python3.10/dist-packages (from langchain) (2.0.23)\n",
            "Requirement already satisfied: async-timeout<5.0.0,>=4.0.0 in /usr/local/lib/python3.10/dist-packages (from langchain) (4.0.3)\n",
            "Collecting dataclasses-json<0.7,>=0.5.7 (from langchain)\n",
            "  Downloading dataclasses_json-0.6.3-py3-none-any.whl (28 kB)\n",
            "Collecting jsonpatch<2.0,>=1.33 (from langchain)\n",
            "  Downloading jsonpatch-1.33-py2.py3-none-any.whl (12 kB)\n",
            "Collecting langchain-community<0.1,>=0.0.8 (from langchain)\n",
            "  Downloading langchain_community-0.0.8-py3-none-any.whl (1.5 MB)\n",
            "\u001b[2K     \u001b[90m━━━━━━━━━━━━━━━━━━━━━━━━━━━━━━━━━━━━━━━━\u001b[0m \u001b[32m1.5/1.5 MB\u001b[0m \u001b[31m50.4 MB/s\u001b[0m eta \u001b[36m0:00:00\u001b[0m\n",
            "\u001b[?25hCollecting langchain-core<0.2,>=0.1.5 (from langchain)\n",
            "  Downloading langchain_core-0.1.5-py3-none-any.whl (205 kB)\n",
            "\u001b[2K     \u001b[90m━━━━━━━━━━━━━━━━━━━━━━━━━━━━━━━━━━━━━━━━\u001b[0m \u001b[32m205.3/205.3 kB\u001b[0m \u001b[31m17.9 MB/s\u001b[0m eta \u001b[36m0:00:00\u001b[0m\n",
            "\u001b[?25hCollecting langsmith<0.1.0,>=0.0.77 (from langchain)\n",
            "  Downloading langsmith-0.0.77-py3-none-any.whl (48 kB)\n",
            "\u001b[2K     \u001b[90m━━━━━━━━━━━━━━━━━━━━━━━━━━━━━━━━━━━━━━━━\u001b[0m \u001b[32m48.2/48.2 kB\u001b[0m \u001b[31m4.5 MB/s\u001b[0m eta \u001b[36m0:00:00\u001b[0m\n",
            "\u001b[?25hRequirement already satisfied: numpy<2,>=1 in /usr/local/lib/python3.10/dist-packages (from langchain) (1.23.5)\n",
            "Requirement already satisfied: pydantic<3,>=1 in /usr/local/lib/python3.10/dist-packages (from langchain) (1.10.13)\n",
            "Requirement already satisfied: tenacity<9.0.0,>=8.1.0 in /usr/local/lib/python3.10/dist-packages (from langchain) (8.2.3)\n",
            "Requirement already satisfied: regex>=2022.1.18 in /usr/local/lib/python3.10/dist-packages (from tiktoken) (2023.6.3)\n",
            "Requirement already satisfied: build>=1.0.3 in /usr/local/lib/python3.10/dist-packages (from chromadb) (1.0.3)\n",
            "Collecting chroma-hnswlib==0.7.3 (from chromadb)\n",
            "  Downloading chroma_hnswlib-0.7.3-cp310-cp310-manylinux_2_17_x86_64.manylinux2014_x86_64.whl (2.4 MB)\n",
            "\u001b[2K     \u001b[90m━━━━━━━━━━━━━━━━━━━━━━━━━━━━━━━━━━━━━━━━\u001b[0m \u001b[32m2.4/2.4 MB\u001b[0m \u001b[31m43.7 MB/s\u001b[0m eta \u001b[36m0:00:00\u001b[0m\n",
            "\u001b[?25hCollecting fastapi>=0.95.2 (from chromadb)\n",
            "  Downloading fastapi-0.108.0-py3-none-any.whl (92 kB)\n",
            "\u001b[2K     \u001b[90m━━━━━━━━━━━━━━━━━━━━━━━━━━━━━━━━━━━━━━━━\u001b[0m \u001b[32m92.0/92.0 kB\u001b[0m \u001b[31m14.3 MB/s\u001b[0m eta \u001b[36m0:00:00\u001b[0m\n",
            "\u001b[?25hCollecting uvicorn[standard]>=0.18.3 (from chromadb)\n",
            "  Downloading uvicorn-0.25.0-py3-none-any.whl (60 kB)\n",
            "\u001b[2K     \u001b[90m━━━━━━━━━━━━━━━━━━━━━━━━━━━━━━━━━━━━━━━━\u001b[0m \u001b[32m60.3/60.3 kB\u001b[0m \u001b[31m8.9 MB/s\u001b[0m eta \u001b[36m0:00:00\u001b[0m\n",
            "\u001b[?25hCollecting posthog>=2.4.0 (from chromadb)\n",
            "  Downloading posthog-3.1.0-py2.py3-none-any.whl (37 kB)\n",
            "Requirement already satisfied: typing-extensions>=4.5.0 in /usr/local/lib/python3.10/dist-packages (from chromadb) (4.5.0)\n",
            "Collecting pulsar-client>=3.1.0 (from chromadb)\n",
            "  Downloading pulsar_client-3.4.0-cp310-cp310-manylinux_2_17_x86_64.manylinux2014_x86_64.whl (5.4 MB)\n",
            "\u001b[2K     \u001b[90m━━━━━━━━━━━━━━━━━━━━━━━━━━━━━━━━━━━━━━━━\u001b[0m \u001b[32m5.4/5.4 MB\u001b[0m \u001b[31m80.6 MB/s\u001b[0m eta \u001b[36m0:00:00\u001b[0m\n",
            "\u001b[?25hCollecting onnxruntime>=1.14.1 (from chromadb)\n",
            "  Downloading onnxruntime-1.16.3-cp310-cp310-manylinux_2_17_x86_64.manylinux2014_x86_64.whl (6.4 MB)\n",
            "\u001b[2K     \u001b[90m━━━━━━━━━━━━━━━━━━━━━━━━━━━━━━━━━━━━━━━━\u001b[0m \u001b[32m6.4/6.4 MB\u001b[0m \u001b[31m83.0 MB/s\u001b[0m eta \u001b[36m0:00:00\u001b[0m\n",
            "\u001b[?25hCollecting opentelemetry-api>=1.2.0 (from chromadb)\n",
            "  Downloading opentelemetry_api-1.22.0-py3-none-any.whl (57 kB)\n",
            "\u001b[2K     \u001b[90m━━━━━━━━━━━━━━━━━━━━━━━━━━━━━━━━━━━━━━━━\u001b[0m \u001b[32m57.9/57.9 kB\u001b[0m \u001b[31m8.6 MB/s\u001b[0m eta \u001b[36m0:00:00\u001b[0m\n",
            "\u001b[?25hCollecting opentelemetry-exporter-otlp-proto-grpc>=1.2.0 (from chromadb)\n",
            "  Downloading opentelemetry_exporter_otlp_proto_grpc-1.22.0-py3-none-any.whl (18 kB)\n",
            "Collecting opentelemetry-instrumentation-fastapi>=0.41b0 (from chromadb)\n",
            "  Downloading opentelemetry_instrumentation_fastapi-0.43b0-py3-none-any.whl (11 kB)\n",
            "Collecting opentelemetry-sdk>=1.2.0 (from chromadb)\n",
            "  Downloading opentelemetry_sdk-1.22.0-py3-none-any.whl (105 kB)\n",
            "\u001b[2K     \u001b[90m━━━━━━━━━━━━━━━━━━━━━━━━━━━━━━━━━━━━━━━━\u001b[0m \u001b[32m105.6/105.6 kB\u001b[0m \u001b[31m15.9 MB/s\u001b[0m eta \u001b[36m0:00:00\u001b[0m\n",
            "\u001b[?25hRequirement already satisfied: tokenizers>=0.13.2 in /usr/local/lib/python3.10/dist-packages (from chromadb) (0.15.0)\n",
            "Collecting pypika>=0.48.9 (from chromadb)\n",
            "  Downloading PyPika-0.48.9.tar.gz (67 kB)\n",
            "\u001b[2K     \u001b[90m━━━━━━━━━━━━━━━━━━━━━━━━━━━━━━━━━━━━━━━━\u001b[0m \u001b[32m67.3/67.3 kB\u001b[0m \u001b[31m10.4 MB/s\u001b[0m eta \u001b[36m0:00:00\u001b[0m\n",
            "\u001b[?25h  Installing build dependencies ... \u001b[?25l\u001b[?25hdone\n",
            "  Getting requirements to build wheel ... \u001b[?25l\u001b[?25hdone\n",
            "  Preparing metadata (pyproject.toml) ... \u001b[?25l\u001b[?25hdone\n",
            "Collecting overrides>=7.3.1 (from chromadb)\n",
            "  Downloading overrides-7.4.0-py3-none-any.whl (17 kB)\n",
            "Requirement already satisfied: importlib-resources in /usr/local/lib/python3.10/dist-packages (from chromadb) (6.1.1)\n",
            "Requirement already satisfied: grpcio>=1.58.0 in /usr/local/lib/python3.10/dist-packages (from chromadb) (1.60.0)\n",
            "Collecting bcrypt>=4.0.1 (from chromadb)\n",
            "  Downloading bcrypt-4.1.2-cp39-abi3-manylinux_2_28_x86_64.whl (698 kB)\n",
            "\u001b[2K     \u001b[90m━━━━━━━━━━━━━━━━━━━━━━━━━━━━━━━━━━━━━━━━\u001b[0m \u001b[32m698.9/698.9 kB\u001b[0m \u001b[31m60.5 MB/s\u001b[0m eta \u001b[36m0:00:00\u001b[0m\n",
            "\u001b[?25hRequirement already satisfied: typer>=0.9.0 in /usr/local/lib/python3.10/dist-packages (from chromadb) (0.9.0)\n",
            "Collecting kubernetes>=28.1.0 (from chromadb)\n",
            "  Downloading kubernetes-28.1.0-py2.py3-none-any.whl (1.6 MB)\n",
            "\u001b[2K     \u001b[90m━━━━━━━━━━━━━━━━━━━━━━━━━━━━━━━━━━━━━━━━\u001b[0m \u001b[32m1.6/1.6 MB\u001b[0m \u001b[31m71.3 MB/s\u001b[0m eta \u001b[36m0:00:00\u001b[0m\n",
            "\u001b[?25hCollecting mmh3>=4.0.1 (from chromadb)\n",
            "  Downloading mmh3-4.0.1-cp310-cp310-manylinux_2_5_x86_64.manylinux1_x86_64.manylinux_2_17_x86_64.manylinux2014_x86_64.whl (72 kB)\n",
            "\u001b[2K     \u001b[90m━━━━━━━━━━━━━━━━━━━━━━━━━━━━━━━━━━━━━━━━\u001b[0m \u001b[32m72.6/72.6 kB\u001b[0m \u001b[31m11.7 MB/s\u001b[0m eta \u001b[36m0:00:00\u001b[0m\n",
            "\u001b[?25hRequirement already satisfied: attrs>=17.3.0 in /usr/local/lib/python3.10/dist-packages (from aiohttp->openai==0.28.1) (23.1.0)\n",
            "Requirement already satisfied: multidict<7.0,>=4.5 in /usr/local/lib/python3.10/dist-packages (from aiohttp->openai==0.28.1) (6.0.4)\n",
            "Requirement already satisfied: yarl<2.0,>=1.0 in /usr/local/lib/python3.10/dist-packages (from aiohttp->openai==0.28.1) (1.9.4)\n",
            "Requirement already satisfied: frozenlist>=1.1.1 in /usr/local/lib/python3.10/dist-packages (from aiohttp->openai==0.28.1) (1.4.1)\n",
            "Requirement already satisfied: aiosignal>=1.1.2 in /usr/local/lib/python3.10/dist-packages (from aiohttp->openai==0.28.1) (1.3.1)\n",
            "Requirement already satisfied: packaging>=19.0 in /usr/local/lib/python3.10/dist-packages (from build>=1.0.3->chromadb) (23.2)\n",
            "Requirement already satisfied: pyproject_hooks in /usr/local/lib/python3.10/dist-packages (from build>=1.0.3->chromadb) (1.0.0)\n",
            "Requirement already satisfied: tomli>=1.1.0 in /usr/local/lib/python3.10/dist-packages (from build>=1.0.3->chromadb) (2.0.1)\n",
            "Collecting marshmallow<4.0.0,>=3.18.0 (from dataclasses-json<0.7,>=0.5.7->langchain)\n",
            "  Downloading marshmallow-3.20.1-py3-none-any.whl (49 kB)\n",
            "\u001b[2K     \u001b[90m━━━━━━━━━━━━━━━━━━━━━━━━━━━━━━━━━━━━━━━━\u001b[0m \u001b[32m49.4/49.4 kB\u001b[0m \u001b[31m7.0 MB/s\u001b[0m eta \u001b[36m0:00:00\u001b[0m\n",
            "\u001b[?25hCollecting typing-inspect<1,>=0.4.0 (from dataclasses-json<0.7,>=0.5.7->langchain)\n",
            "  Downloading typing_inspect-0.9.0-py3-none-any.whl (8.8 kB)\n",
            "Collecting starlette<0.33.0,>=0.29.0 (from fastapi>=0.95.2->chromadb)\n",
            "  Downloading starlette-0.32.0.post1-py3-none-any.whl (70 kB)\n",
            "\u001b[2K     \u001b[90m━━━━━━━━━━━━━━━━━━━━━━━━━━━━━━━━━━━━━━━━\u001b[0m \u001b[32m70.0/70.0 kB\u001b[0m \u001b[31m10.4 MB/s\u001b[0m eta \u001b[36m0:00:00\u001b[0m\n",
            "\u001b[?25hCollecting typing-extensions>=4.5.0 (from chromadb)\n",
            "  Downloading typing_extensions-4.9.0-py3-none-any.whl (32 kB)\n",
            "Collecting jsonpointer>=1.9 (from jsonpatch<2.0,>=1.33->langchain)\n",
            "  Downloading jsonpointer-2.4-py2.py3-none-any.whl (7.8 kB)\n",
            "Requirement already satisfied: certifi>=14.05.14 in /usr/local/lib/python3.10/dist-packages (from kubernetes>=28.1.0->chromadb) (2023.11.17)\n",
            "Requirement already satisfied: six>=1.9.0 in /usr/local/lib/python3.10/dist-packages (from kubernetes>=28.1.0->chromadb) (1.16.0)\n",
            "Requirement already satisfied: python-dateutil>=2.5.3 in /usr/local/lib/python3.10/dist-packages (from kubernetes>=28.1.0->chromadb) (2.8.2)\n",
            "Requirement already satisfied: google-auth>=1.0.1 in /usr/local/lib/python3.10/dist-packages (from kubernetes>=28.1.0->chromadb) (2.17.3)\n",
            "Requirement already satisfied: websocket-client!=0.40.0,!=0.41.*,!=0.42.*,>=0.32.0 in /usr/local/lib/python3.10/dist-packages (from kubernetes>=28.1.0->chromadb) (1.7.0)\n",
            "Requirement already satisfied: requests-oauthlib in /usr/local/lib/python3.10/dist-packages (from kubernetes>=28.1.0->chromadb) (1.3.1)\n",
            "Requirement already satisfied: oauthlib>=3.2.2 in /usr/local/lib/python3.10/dist-packages (from kubernetes>=28.1.0->chromadb) (3.2.2)\n",
            "Collecting urllib3<2.0,>=1.24.2 (from kubernetes>=28.1.0->chromadb)\n",
            "  Downloading urllib3-1.26.18-py2.py3-none-any.whl (143 kB)\n",
            "\u001b[2K     \u001b[90m━━━━━━━━━━━━━━━━━━━━━━━━━━━━━━━━━━━━━━━━\u001b[0m \u001b[32m143.8/143.8 kB\u001b[0m \u001b[31m21.0 MB/s\u001b[0m eta \u001b[36m0:00:00\u001b[0m\n",
            "\u001b[?25hRequirement already satisfied: anyio<5,>=3 in /usr/local/lib/python3.10/dist-packages (from langchain-core<0.2,>=0.1.5->langchain) (3.7.1)\n",
            "Collecting coloredlogs (from onnxruntime>=1.14.1->chromadb)\n",
            "  Downloading coloredlogs-15.0.1-py2.py3-none-any.whl (46 kB)\n",
            "\u001b[2K     \u001b[90m━━━━━━━━━━━━━━━━━━━━━━━━━━━━━━━━━━━━━━━━\u001b[0m \u001b[32m46.0/46.0 kB\u001b[0m \u001b[31m6.8 MB/s\u001b[0m eta \u001b[36m0:00:00\u001b[0m\n",
            "\u001b[?25hRequirement already satisfied: flatbuffers in /usr/local/lib/python3.10/dist-packages (from onnxruntime>=1.14.1->chromadb) (23.5.26)\n",
            "Requirement already satisfied: protobuf in /usr/local/lib/python3.10/dist-packages (from onnxruntime>=1.14.1->chromadb) (3.20.3)\n",
            "Requirement already satisfied: sympy in /usr/local/lib/python3.10/dist-packages (from onnxruntime>=1.14.1->chromadb) (1.12)\n",
            "Collecting deprecated>=1.2.6 (from opentelemetry-api>=1.2.0->chromadb)\n",
            "  Downloading Deprecated-1.2.14-py2.py3-none-any.whl (9.6 kB)\n",
            "Collecting importlib-metadata<7.0,>=6.0 (from opentelemetry-api>=1.2.0->chromadb)\n",
            "  Downloading importlib_metadata-6.11.0-py3-none-any.whl (23 kB)\n",
            "Collecting backoff<3.0.0,>=1.10.0 (from opentelemetry-exporter-otlp-proto-grpc>=1.2.0->chromadb)\n",
            "  Downloading backoff-2.2.1-py3-none-any.whl (15 kB)\n",
            "Requirement already satisfied: googleapis-common-protos~=1.52 in /usr/local/lib/python3.10/dist-packages (from opentelemetry-exporter-otlp-proto-grpc>=1.2.0->chromadb) (1.62.0)\n",
            "Collecting opentelemetry-exporter-otlp-proto-common==1.22.0 (from opentelemetry-exporter-otlp-proto-grpc>=1.2.0->chromadb)\n",
            "  Downloading opentelemetry_exporter_otlp_proto_common-1.22.0-py3-none-any.whl (17 kB)\n",
            "Collecting opentelemetry-proto==1.22.0 (from opentelemetry-exporter-otlp-proto-grpc>=1.2.0->chromadb)\n",
            "  Downloading opentelemetry_proto-1.22.0-py3-none-any.whl (50 kB)\n",
            "\u001b[2K     \u001b[90m━━━━━━━━━━━━━━━━━━━━━━━━━━━━━━━━━━━━━━━━\u001b[0m \u001b[32m50.8/50.8 kB\u001b[0m \u001b[31m7.4 MB/s\u001b[0m eta \u001b[36m0:00:00\u001b[0m\n",
            "\u001b[?25hCollecting opentelemetry-instrumentation-asgi==0.43b0 (from opentelemetry-instrumentation-fastapi>=0.41b0->chromadb)\n",
            "  Downloading opentelemetry_instrumentation_asgi-0.43b0-py3-none-any.whl (14 kB)\n",
            "Collecting opentelemetry-instrumentation==0.43b0 (from opentelemetry-instrumentation-fastapi>=0.41b0->chromadb)\n",
            "  Downloading opentelemetry_instrumentation-0.43b0-py3-none-any.whl (28 kB)\n",
            "Collecting opentelemetry-semantic-conventions==0.43b0 (from opentelemetry-instrumentation-fastapi>=0.41b0->chromadb)\n",
            "  Downloading opentelemetry_semantic_conventions-0.43b0-py3-none-any.whl (36 kB)\n",
            "Collecting opentelemetry-util-http==0.43b0 (from opentelemetry-instrumentation-fastapi>=0.41b0->chromadb)\n",
            "  Downloading opentelemetry_util_http-0.43b0-py3-none-any.whl (6.9 kB)\n",
            "Requirement already satisfied: setuptools>=16.0 in /usr/local/lib/python3.10/dist-packages (from opentelemetry-instrumentation==0.43b0->opentelemetry-instrumentation-fastapi>=0.41b0->chromadb) (67.7.2)\n",
            "Requirement already satisfied: wrapt<2.0.0,>=1.0.0 in /usr/local/lib/python3.10/dist-packages (from opentelemetry-instrumentation==0.43b0->opentelemetry-instrumentation-fastapi>=0.41b0->chromadb) (1.14.1)\n",
            "Collecting asgiref~=3.0 (from opentelemetry-instrumentation-asgi==0.43b0->opentelemetry-instrumentation-fastapi>=0.41b0->chromadb)\n",
            "  Downloading asgiref-3.7.2-py3-none-any.whl (24 kB)\n",
            "Collecting monotonic>=1.5 (from posthog>=2.4.0->chromadb)\n",
            "  Downloading monotonic-1.6-py2.py3-none-any.whl (8.2 kB)\n",
            "Requirement already satisfied: charset-normalizer<4,>=2 in /usr/local/lib/python3.10/dist-packages (from requests>=2.20->openai==0.28.1) (3.3.2)\n",
            "Requirement already satisfied: idna<4,>=2.5 in /usr/local/lib/python3.10/dist-packages (from requests>=2.20->openai==0.28.1) (3.6)\n",
            "Requirement already satisfied: greenlet!=0.4.17 in /usr/local/lib/python3.10/dist-packages (from SQLAlchemy<3,>=1.4->langchain) (3.0.2)\n",
            "Requirement already satisfied: huggingface_hub<1.0,>=0.16.4 in /usr/local/lib/python3.10/dist-packages (from tokenizers>=0.13.2->chromadb) (0.20.1)\n",
            "Requirement already satisfied: click<9.0.0,>=7.1.1 in /usr/local/lib/python3.10/dist-packages (from typer>=0.9.0->chromadb) (8.1.7)\n",
            "Collecting h11>=0.8 (from uvicorn[standard]>=0.18.3->chromadb)\n",
            "  Downloading h11-0.14.0-py3-none-any.whl (58 kB)\n",
            "\u001b[2K     \u001b[90m━━━━━━━━━━━━━━━━━━━━━━━━━━━━━━━━━━━━━━━━\u001b[0m \u001b[32m58.3/58.3 kB\u001b[0m \u001b[31m6.8 MB/s\u001b[0m eta \u001b[36m0:00:00\u001b[0m\n",
            "\u001b[?25hCollecting httptools>=0.5.0 (from uvicorn[standard]>=0.18.3->chromadb)\n",
            "  Downloading httptools-0.6.1-cp310-cp310-manylinux_2_5_x86_64.manylinux1_x86_64.manylinux_2_17_x86_64.manylinux2014_x86_64.whl (341 kB)\n",
            "\u001b[2K     \u001b[90m━━━━━━━━━━━━━━━━━━━━━━━━━━━━━━━━━━━━━━━━\u001b[0m \u001b[32m341.4/341.4 kB\u001b[0m \u001b[31m32.5 MB/s\u001b[0m eta \u001b[36m0:00:00\u001b[0m\n",
            "\u001b[?25hCollecting python-dotenv>=0.13 (from uvicorn[standard]>=0.18.3->chromadb)\n",
            "  Downloading python_dotenv-1.0.0-py3-none-any.whl (19 kB)\n",
            "Collecting uvloop!=0.15.0,!=0.15.1,>=0.14.0 (from uvicorn[standard]>=0.18.3->chromadb)\n",
            "  Downloading uvloop-0.19.0-cp310-cp310-manylinux_2_17_x86_64.manylinux2014_x86_64.whl (3.4 MB)\n",
            "\u001b[2K     \u001b[90m━━━━━━━━━━━━━━━━━━━━━━━━━━━━━━━━━━━━━━━━\u001b[0m \u001b[32m3.4/3.4 MB\u001b[0m \u001b[31m59.5 MB/s\u001b[0m eta \u001b[36m0:00:00\u001b[0m\n",
            "\u001b[?25hCollecting watchfiles>=0.13 (from uvicorn[standard]>=0.18.3->chromadb)\n",
            "  Downloading watchfiles-0.21.0-cp310-cp310-manylinux_2_17_x86_64.manylinux2014_x86_64.whl (1.3 MB)\n",
            "\u001b[2K     \u001b[90m━━━━━━━━━━━━━━━━━━━━━━━━━━━━━━━━━━━━━━━━\u001b[0m \u001b[32m1.3/1.3 MB\u001b[0m \u001b[31m60.9 MB/s\u001b[0m eta \u001b[36m0:00:00\u001b[0m\n",
            "\u001b[?25hCollecting websockets>=10.4 (from uvicorn[standard]>=0.18.3->chromadb)\n",
            "  Downloading websockets-12.0-cp310-cp310-manylinux_2_5_x86_64.manylinux1_x86_64.manylinux_2_17_x86_64.manylinux2014_x86_64.whl (130 kB)\n",
            "\u001b[2K     \u001b[90m━━━━━━━━━━━━━━━━━━━━━━━━━━━━━━━━━━━━━━━━\u001b[0m \u001b[32m130.2/130.2 kB\u001b[0m \u001b[31m16.2 MB/s\u001b[0m eta \u001b[36m0:00:00\u001b[0m\n",
            "\u001b[?25hRequirement already satisfied: sniffio>=1.1 in /usr/local/lib/python3.10/dist-packages (from anyio<5,>=3->langchain-core<0.2,>=0.1.5->langchain) (1.3.0)\n",
            "Requirement already satisfied: exceptiongroup in /usr/local/lib/python3.10/dist-packages (from anyio<5,>=3->langchain-core<0.2,>=0.1.5->langchain) (1.2.0)\n",
            "Requirement already satisfied: cachetools<6.0,>=2.0.0 in /usr/local/lib/python3.10/dist-packages (from google-auth>=1.0.1->kubernetes>=28.1.0->chromadb) (5.3.2)\n",
            "Requirement already satisfied: pyasn1-modules>=0.2.1 in /usr/local/lib/python3.10/dist-packages (from google-auth>=1.0.1->kubernetes>=28.1.0->chromadb) (0.3.0)\n",
            "Requirement already satisfied: rsa<5,>=3.1.4 in /usr/local/lib/python3.10/dist-packages (from google-auth>=1.0.1->kubernetes>=28.1.0->chromadb) (4.9)\n",
            "Requirement already satisfied: filelock in /usr/local/lib/python3.10/dist-packages (from huggingface_hub<1.0,>=0.16.4->tokenizers>=0.13.2->chromadb) (3.13.1)\n",
            "Requirement already satisfied: fsspec>=2023.5.0 in /usr/local/lib/python3.10/dist-packages (from huggingface_hub<1.0,>=0.16.4->tokenizers>=0.13.2->chromadb) (2023.6.0)\n",
            "Requirement already satisfied: zipp>=0.5 in /usr/local/lib/python3.10/dist-packages (from importlib-metadata<7.0,>=6.0->opentelemetry-api>=1.2.0->chromadb) (3.17.0)\n",
            "Collecting mypy-extensions>=0.3.0 (from typing-inspect<1,>=0.4.0->dataclasses-json<0.7,>=0.5.7->langchain)\n",
            "  Downloading mypy_extensions-1.0.0-py3-none-any.whl (4.7 kB)\n",
            "Collecting humanfriendly>=9.1 (from coloredlogs->onnxruntime>=1.14.1->chromadb)\n",
            "  Downloading humanfriendly-10.0-py2.py3-none-any.whl (86 kB)\n",
            "\u001b[2K     \u001b[90m━━━━━━━━━━━━━━━━━━━━━━━━━━━━━━━━━━━━━━━━\u001b[0m \u001b[32m86.8/86.8 kB\u001b[0m \u001b[31m8.7 MB/s\u001b[0m eta \u001b[36m0:00:00\u001b[0m\n",
            "\u001b[?25hRequirement already satisfied: mpmath>=0.19 in /usr/local/lib/python3.10/dist-packages (from sympy->onnxruntime>=1.14.1->chromadb) (1.3.0)\n",
            "Requirement already satisfied: pyasn1<0.6.0,>=0.4.6 in /usr/local/lib/python3.10/dist-packages (from pyasn1-modules>=0.2.1->google-auth>=1.0.1->kubernetes>=28.1.0->chromadb) (0.5.1)\n",
            "Building wheels for collected packages: pypika\n",
            "  Building wheel for pypika (pyproject.toml) ... \u001b[?25l\u001b[?25hdone\n",
            "  Created wheel for pypika: filename=PyPika-0.48.9-py2.py3-none-any.whl size=53723 sha256=8a1a1da99874ddf7cf69d375703fa62d295e245c74b7a25446968818b036d019\n",
            "  Stored in directory: /root/.cache/pip/wheels/e1/26/51/d0bffb3d2fd82256676d7ad3003faea3bd6dddc9577af665f4\n",
            "Successfully built pypika\n",
            "Installing collected packages: pypika, monotonic, mmh3, websockets, uvloop, urllib3, typing-extensions, python-dotenv, pulsar-client, overrides, opentelemetry-util-http, opentelemetry-semantic-conventions, opentelemetry-proto, mypy-extensions, marshmallow, jsonpointer, importlib-metadata, humanfriendly, httptools, h11, deprecated, chroma-hnswlib, bcrypt, backoff, watchfiles, uvicorn, typing-inspect, starlette, opentelemetry-exporter-otlp-proto-common, opentelemetry-api, jsonpatch, coloredlogs, asgiref, tiktoken, posthog, opentelemetry-sdk, opentelemetry-instrumentation, openai, onnxruntime, langsmith, fastapi, dataclasses-json, opentelemetry-instrumentation-asgi, opentelemetry-exporter-otlp-proto-grpc, langchain-core, kubernetes, opentelemetry-instrumentation-fastapi, langchain-community, langchain, chromadb\n",
            "  Attempting uninstall: urllib3\n",
            "    Found existing installation: urllib3 2.0.7\n",
            "    Uninstalling urllib3-2.0.7:\n",
            "      Successfully uninstalled urllib3-2.0.7\n",
            "  Attempting uninstall: typing-extensions\n",
            "    Found existing installation: typing_extensions 4.5.0\n",
            "    Uninstalling typing_extensions-4.5.0:\n",
            "      Successfully uninstalled typing_extensions-4.5.0\n",
            "  Attempting uninstall: importlib-metadata\n",
            "    Found existing installation: importlib-metadata 7.0.0\n",
            "    Uninstalling importlib-metadata-7.0.0:\n",
            "      Successfully uninstalled importlib-metadata-7.0.0\n",
            "\u001b[31mERROR: pip's dependency resolver does not currently take into account all the packages that are installed. This behaviour is the source of the following dependency conflicts.\n",
            "lida 0.0.10 requires kaleido, which is not installed.\n",
            "lida 0.0.10 requires python-multipart, which is not installed.\n",
            "llmx 0.0.15a0 requires cohere, which is not installed.\n",
            "tensorflow-probability 0.22.0 requires typing-extensions<4.6.0, but you have typing-extensions 4.9.0 which is incompatible.\u001b[0m\u001b[31m\n",
            "\u001b[0mSuccessfully installed asgiref-3.7.2 backoff-2.2.1 bcrypt-4.1.2 chroma-hnswlib-0.7.3 chromadb-0.4.22 coloredlogs-15.0.1 dataclasses-json-0.6.3 deprecated-1.2.14 fastapi-0.108.0 h11-0.14.0 httptools-0.6.1 humanfriendly-10.0 importlib-metadata-6.11.0 jsonpatch-1.33 jsonpointer-2.4 kubernetes-28.1.0 langchain-0.0.354 langchain-community-0.0.8 langchain-core-0.1.5 langsmith-0.0.77 marshmallow-3.20.1 mmh3-4.0.1 monotonic-1.6 mypy-extensions-1.0.0 onnxruntime-1.16.3 openai-0.28.1 opentelemetry-api-1.22.0 opentelemetry-exporter-otlp-proto-common-1.22.0 opentelemetry-exporter-otlp-proto-grpc-1.22.0 opentelemetry-instrumentation-0.43b0 opentelemetry-instrumentation-asgi-0.43b0 opentelemetry-instrumentation-fastapi-0.43b0 opentelemetry-proto-1.22.0 opentelemetry-sdk-1.22.0 opentelemetry-semantic-conventions-0.43b0 opentelemetry-util-http-0.43b0 overrides-7.4.0 posthog-3.1.0 pulsar-client-3.4.0 pypika-0.48.9 python-dotenv-1.0.0 starlette-0.32.0.post1 tiktoken-0.5.2 typing-extensions-4.9.0 typing-inspect-0.9.0 urllib3-1.26.18 uvicorn-0.25.0 uvloop-0.19.0 watchfiles-0.21.0 websockets-12.0\n"
          ]
        }
      ]
    },
    {
      "cell_type": "markdown",
      "source": [
        "## 여러 문서에서 찾아서 답변하는 챗봇 만들기"
      ],
      "metadata": {
        "id": "682S6bb47h1Q"
      }
    },
    {
      "cell_type": "markdown",
      "source": [
        "랭체인(langchain)이란?  \n",
        " - ChatGPT와 같은 대규모 언어 모델을 사용하여 어플리케이션을 쉽게 생성할 수 있도록 설계된 프레임워크이다.  \n",
        " - LLM에 외부의 '지식'이나 '계산능력'을 활용할 때 도움이 된다.  \n",
        " - 자신이 학습한 것만으로 대화하는 LLM에게 '책'이나 '프로그램'을 전달해서 외부의 '지식'이나 '계산능력'을 활용할 수 있게 하는 역할을 한다."
      ],
      "metadata": {
        "id": "4Iiu5CaJ7mxv"
      }
    },
    {
      "cell_type": "code",
      "source": [
        "import os\n",
        "\n",
        "os.environ[\"OPENAI_API_KEY\"]='sk-'"
      ],
      "metadata": {
        "id": "oGvDndtq9Wzy"
      },
      "execution_count": 3,
      "outputs": []
    },
    {
      "cell_type": "code",
      "source": [
        "from langchain.vectorstores import Chroma\n",
        "from langchain.embeddings import OpenAIEmbeddings\n",
        "from langchain.text_splitter import RecursiveCharacterTextSplitter\n",
        "from langchain.chat_models import ChatOpenAI\n",
        "from langchain.chains import RetrievalQA\n",
        "from langchain.document_loaders import TextLoader\n",
        "from langchain.document_loaders import DirectoryLoader\n",
        "from collections import Counter"
      ],
      "metadata": {
        "id": "NoCmAH-E9d5l"
      },
      "execution_count": 4,
      "outputs": []
    },
    {
      "cell_type": "markdown",
      "source": [
        "### Load multiple and process documents"
      ],
      "metadata": {
        "id": "NXZWBNnR9i70"
      }
    },
    {
      "cell_type": "code",
      "source": [
        "# !wget https://github.com/chatgpt-kr/chatgpt-api-tutorial/raw/main/ch05/data.zip\n",
        "# !unzip data"
      ],
      "metadata": {
        "id": "mQvQiSzBAVjq"
      },
      "execution_count": null,
      "outputs": []
    },
    {
      "cell_type": "code",
      "source": [
        "# path : directory\n",
        "# glob : file\n",
        "\n",
        "loader = DirectoryLoader('./data/data_hwell', glob='*.txt', loader_cls=TextLoader)\n",
        "\n",
        "documents = loader.load()\n",
        "\n",
        "print('문서의 개수 :', len(documents))"
      ],
      "metadata": {
        "colab": {
          "base_uri": "https://localhost:8080/"
        },
        "id": "yr3h9TIn-CYN",
        "outputId": "28522ca7-4dc9-4245-b48e-920dbf9b49dd"
      },
      "execution_count": 5,
      "outputs": [
        {
          "output_type": "stream",
          "name": "stdout",
          "text": [
            "문서의 개수 : 50\n"
          ]
        }
      ]
    },
    {
      "cell_type": "code",
      "source": [
        "print('1번 문서 :', documents[1])\n",
        "print('-'*20)\n",
        "print('21번 문서:', documents[2])\n",
        "print('-'*20)"
      ],
      "metadata": {
        "colab": {
          "base_uri": "https://localhost:8080/"
        },
        "id": "DVPe9RWc-VqY",
        "outputId": "b813db4a-36a4-47dc-92b6-b55f9717f62c"
      },
      "execution_count": 6,
      "outputs": [
        {
          "output_type": "stream",
          "name": "stdout",
          "text": [
            "1번 문서 : page_content='오십견이 걸렸을 경우 좋은 자가관리 방법은?\\n통증이 장기간 지속되면 의사의 진찰 받는 것이 중요합니다. 그러나 오십견을 예방하고 또한 진단받은 후 치료의 일종으로 자가 관리 또한 중요합니다. 어깨통증 심할 경우에는 어깨를 너무 과도하게 사용하는 것과 심한 운동은 피하는 것이 좋습니다. 그리고, 의사의 치료를 통해 어는 정도 통증이 완화되면  어깨 운동이 필요합니다. 너무 과도한 운동은 오히려 해가 될 수 있으나 적절한 운동은 오십견에 많은 도움을 줄 수 있습니다.\\n좋은 운동으로 관절의 가동범위(움직이는 범위)를 최대한 늘이는 것입니다. 다친 후에 움직이지 않으면 관절이 굳고, 굳는 것 때문에 통증이 더 올 수 있습니다. 처음에는 스스로 하지 말고 치료사나 타인에 의해서 관절운동을 수동적으로 하되 어깨관절의 앞, 뒤, 내측, 외측, 돌리기 등을 부드럽게 시행합니다(어깨관절의 굴곡, 신전, 외전, 내전, 외회전, 내회전). 점차적으로 약간씩 힘을 주어서 하며 괜찮은 경우 스스로 관절운동을 합니다. 어느정도 되면 저항을 주면서 운동을 합니다. 가동 범위도 처음에 20-30도 정도로 하다가 점차 늘려 나갑니다.\\n관절운동시 통증이 계속 있을 수 있기 때문에 물리치료, 약물치료 등을 계속합니다. 만약에 관절이 굳어있으면 스트레칭을 시도합니다. 스트레칭은 주로 어깨관절 뒤쪽의 스트레칭에 중점을 두어 하며 반드시 아프지 않게 하여야 합니다.' metadata={'source': 'data/data_hwell/1.txt'}\n",
            "--------------------\n",
            "21번 문서: page_content='요통에 좋은 운동과 예방법은?\\n요통의 예방과 치료는 무엇보다도 질병에 대한 교육이 중요하고 평소에 바른 자세 생활 등 자기 관리가 가장 중요하다고 하겠습니다. 과로에 대해서는 쉽게 피로하지 않는 건강한 몸을 만들어 주는 것이 중요하며, 다리와 허리를 튼튼하게 근 기능을 단련하는 것이 필요합니다. 요통의 예방에는 허리근육 강화가 아주 중요합니다. 자신이 버틸 수 있는 것보다 과도한  힘이 허리에 가해질 때 요통이 야기되는데 이것을 예방하려면 허리에 무리하지 않거나 무리가 되더라도 감당할 수 있게 허리근육을 강화하는 것입니다. 이것이 요통환자에 있어서 통증의 악순환을 차단하는 가장 중요한 것입니다.\\n<하부 허리와 복부근육 강화운동법>\\n1.똑바로 누워서 무릎을 세운다.\\n2.배에 힘을 주고 허리를 바닥에 대고 누르듯이 한다. 이때 엉덩이를 바닥에서 살짝 들고 항문에 힘을 준다. 그림(b) \\n3.10 ~15초 동안 힘을 주다가 힘을 뺀다. 점차 힘을 주는 시간을 늘려서 60초까지 하게 한다\\n4.2회 반복한다. \\n5.하루에 한 번 시행한다.\\n <올바른 물건 들기와 옮기기 방법>\\n 올바른 물건 들기와 옮기기 방법을 익힘으로써 허리의 부상을 방지할 수가 있습니다. 무거운 물건을 들 때는 허리를 굽혀서 들지 말고 허리를 세운 상태로 무릎을 굽혀서 엉덩이와 다리의 힘을 이용해서 들도록 해야 하고, 무거운 물건을 들고 허리를 비트는 동작은 대단히 위험하므로 허리를 비틀어서 방향을 전환하기보다는 발을 옮겨서 방향을 돌려야 합니다. 이 때 물체를 몸과 떨어뜨려서 들고 서 있는 것은 허리에 무리한 힘을 주어 과중한 스트레스를 가하게 되므로 물건을 들 때는 물체와 몸을 최대한 가까이 밀착시켜야 합니다. 가벼운 물건을 들 때도 허리를 굽히지 말고 물건을 들어 올려야 합니다. 의자에 앉을 때나 자동차 운전을 할 때는 둔부를 의자 등받이에 바짝 붙여서 앉고 고관절(히프 관절)과 몸통과의 각도 및 무릎의 구부린 각도는 모두 90도를 유지하도록 하는 것이 좋습니다.\\n <올바른 자세와 생활>\\n평소에 다리를 꼬고 앉는 습관도 허리에 부담을 주게 됩니다. 밑에 깔린 다리에 혈액 순환이 잘 안 되게 하는 것뿐만 아니라 골반을 한쪽으로 치우치게 하고 허리에 불균형을 초래하며 과도한 힘을 가하게 되어 요통을 유발합니다. 또 장시간 서서 일하는 사람들은 높이가 15cm 정도 되는 발 받침대를 사용하여 발을 번갈아 올려놓아 허리에 걸리는 부하가 최소화되도록 하면 좋고, 서서 있을 때의 자세는 머리를 바로 세우고, 턱을 약간 밑으로 당기고, 가슴을 펴며, 어깨를 쭈그리지 말아야 하며, 복근에 힘을 주어 배가 안으로 들어가는 자세를 취하는 것이 좋습니다.\\n이와 같은 방법이나 자세는 요통을 예방하고 요통환자들이 허리의 건강을 회복하는데 좋은 효과를 얻을 수 있습니다. 요통의 90% 이상은 바른 자세와 운동으로 충분히 예방하고 치료할 수가 있습니다. 항상 허리를 유연하게 유지하는 노력과 운동의 생활화를 통해서 복부와 허리 근육을 강화시켜야 하며, 바른 자세로 물건을 들어올리는 방법을 익히도록 해야 합니다. 복부 비만도 허리를 아치형으로 만들어 척추에 과다한 스트레스를 주어 요통을 일으키는 원인이 되므로 정상체중을 유지하고 복근과 허리 근육을 튼튼하게 하는 운동과 함께 유연성이 떨어지지 않도록 스트레칭을 하여 척추의 안정감을 높여야 합니다. 건강한 신체에서 건강한 정신과 생각을 유지할 수 있습니다. 특히 통증은 심리적이 면과 많이 연관이 되어서 생활에서 오는 스트레스를 감소시키고 이 모든 것을 스스로 통제하고, 조절할 수 있다는 자신감을 가지는 것 또한 중요합니다. 그리고, 갑자기 심한 요통이 발생하거나, 사고에 의해 야기된 경우, 요통이 발생하고 2주 이상 지속될 경우에는 정확한 진단과 치료를 위해서 전문의의 진찰을 받는 것이 좋습니다.' metadata={'source': 'data/data_hwell/3.txt'}\n",
            "--------------------\n"
          ]
        }
      ]
    },
    {
      "cell_type": "code",
      "source": [
        "documents[1]"
      ],
      "metadata": {
        "colab": {
          "base_uri": "https://localhost:8080/"
        },
        "id": "0d4SvAPRAY_Z",
        "outputId": "c59e2157-b56b-414a-cc94-3bad299350b0"
      },
      "execution_count": 7,
      "outputs": [
        {
          "output_type": "execute_result",
          "data": {
            "text/plain": [
              "Document(page_content='오십견이 걸렸을 경우 좋은 자가관리 방법은?\\n통증이 장기간 지속되면 의사의 진찰 받는 것이 중요합니다. 그러나 오십견을 예방하고 또한 진단받은 후 치료의 일종으로 자가 관리 또한 중요합니다. 어깨통증 심할 경우에는 어깨를 너무 과도하게 사용하는 것과 심한 운동은 피하는 것이 좋습니다. 그리고, 의사의 치료를 통해 어는 정도 통증이 완화되면  어깨 운동이 필요합니다. 너무 과도한 운동은 오히려 해가 될 수 있으나 적절한 운동은 오십견에 많은 도움을 줄 수 있습니다.\\n좋은 운동으로 관절의 가동범위(움직이는 범위)를 최대한 늘이는 것입니다. 다친 후에 움직이지 않으면 관절이 굳고, 굳는 것 때문에 통증이 더 올 수 있습니다. 처음에는 스스로 하지 말고 치료사나 타인에 의해서 관절운동을 수동적으로 하되 어깨관절의 앞, 뒤, 내측, 외측, 돌리기 등을 부드럽게 시행합니다(어깨관절의 굴곡, 신전, 외전, 내전, 외회전, 내회전). 점차적으로 약간씩 힘을 주어서 하며 괜찮은 경우 스스로 관절운동을 합니다. 어느정도 되면 저항을 주면서 운동을 합니다. 가동 범위도 처음에 20-30도 정도로 하다가 점차 늘려 나갑니다.\\n관절운동시 통증이 계속 있을 수 있기 때문에 물리치료, 약물치료 등을 계속합니다. 만약에 관절이 굳어있으면 스트레칭을 시도합니다. 스트레칭은 주로 어깨관절 뒤쪽의 스트레칭에 중점을 두어 하며 반드시 아프지 않게 하여야 합니다.', metadata={'source': 'data/data_hwell/1.txt'})"
            ]
          },
          "metadata": {},
          "execution_count": 7
        }
      ]
    },
    {
      "cell_type": "markdown",
      "source": [
        "### Split texts(텍스트 분할하기)"
      ],
      "metadata": {
        "id": "oHSvmcX7BqRp"
      }
    },
    {
      "cell_type": "markdown",
      "source": [
        "- ChatGPT API의 GPT-3.5-turbo 모델은 입력으로 사용하는 텍스트와 ChatGPT API가 반환하는 답변의 길이를 모두 포함하여 최대 4,096 토큰을 처리할 수 있다.\n",
        "- 예를 들어, ChatGPT API 입력으로 약 3,000토큰 정도의 길이를 가진 입력을 사용하면 ChatGPT는 최대 약 1,000토큰의 답변을 할 수 있는 구조이다.\n",
        "- 입력의 길이가 4,096의 길이에 인접한 입력을 사용하면 ChatGPT API가 답변을 하던 도중 4,096개의 토큰을 모두 소진하면 더 이상 답변을 생성할 수 없어 텍스트가 중간에 끊길 수 있다. 또한 입력의 길이가 4,096을 넘으면 ChatGPT의 입력으로 사용할 수 없다는 에러가 발생한다.\n",
        "- 이런 현상 때문에 너무 긴 문서들은 한 번에 입력으로 사용할 수 없으므로 여러 개의 뭉치(chunk)로 자른 후 ChatGPT API를 여러 번 호출하여 처리해야 한다.\n",
        "- 랭체인의 RecursiveCharacterTextSplitter는 이를 위해 사용하는 도구로, 주어진 문서를 더 작은 단위의 텍스트 뭉치(chunk)로 잘라주는 역할을 한다.\n",
        "-chunk_size에는 텍스트의 분할 기준이 되는 길이를 설정하고, chunk_overlap에는 텍스트를 분할할 때 텍스트의 내용을 얼마나 겹쳐서 자를 것인지 지정한다."
      ],
      "metadata": {
        "id": "gkz_FxsTDG05"
      }
    },
    {
      "cell_type": "code",
      "source": [
        "text_splitter = RecursiveCharacterTextSplitter(chunk_size=1000, chunk_overlap=200)\n",
        "texts = text_splitter.split_documents(documents)\n",
        "\n",
        "print('분할된 텍스트의 개수:', len(texts))"
      ],
      "metadata": {
        "colab": {
          "base_uri": "https://localhost:8080/"
        },
        "id": "DwuXO36FBZ0G",
        "outputId": "75c51c60-f4d0-424b-a004-b3ceb0c8f0de"
      },
      "execution_count": 8,
      "outputs": [
        {
          "output_type": "stream",
          "name": "stdout",
          "text": [
            "분할된 텍스트의 개수: 61\n"
          ]
        }
      ]
    },
    {
      "cell_type": "code",
      "source": [
        "source_list = []\n",
        "for i in range(0, len(texts)):\n",
        "  source_list.append(texts[i].metadata['source'])\n",
        "\n",
        "element_counts = Counter(source_list)\n",
        "filtered_counts = {key: value for key, value in element_counts.items() if value >= 2}\n",
        "print('2개 이상으로 분할된 문서:', filtered_counts)\n",
        "print('분할된 텍스트 개수:', len(documents)+len(filtered_counts))"
      ],
      "metadata": {
        "colab": {
          "base_uri": "https://localhost:8080/"
        },
        "id": "4usYNhTMBucL",
        "outputId": "6aec6327-02e4-4b75-8dea-bee1348d852b"
      },
      "execution_count": 9,
      "outputs": [
        {
          "output_type": "stream",
          "name": "stdout",
          "text": [
            "2개 이상으로 분할된 문서: {'data/data_hwell/3.txt': 2, 'data/data_hwell/4.txt': 2, 'data/data_hwell/21.txt': 2, 'data/data_hwell/26.txt': 2, 'data/data_hwell/27.txt': 2, 'data/data_hwell/32.txt': 2, 'data/data_hwell/33.txt': 2, 'data/data_hwell/34.txt': 3, 'data/data_hwell/35.txt': 2, 'data/data_hwell/44.txt': 2}\n",
            "분할된 텍스트 개수: 60\n"
          ]
        }
      ]
    },
    {
      "cell_type": "markdown",
      "source": [
        "### Create Chroma DB"
      ],
      "metadata": {
        "id": "g8ULt5nKIKgf"
      }
    },
    {
      "cell_type": "markdown",
      "source": [
        "- ChromaDB는 임베딩과 코사인 유사도 계산, 텍스트 불러오는 과정들을 기능별로 구현하여 사용자가 벡터를 좀 더 쉽게 다룰 수 있게 도와주는 벡터응용 도구이다.\n",
        "- Chroma.from_documents()함수를 이용해 벡터 도구 객체를 선언한다. 이때 documents에는 벡터화의 단위가 될 텍스트 리스트를 매개변수로 전달하고, embedding에는 어떤 종류의 임베딩을 사용할 것인지를 기재한다."
      ],
      "metadata": {
        "id": "5_bvjwlmJb_r"
      }
    },
    {
      "cell_type": "code",
      "source": [
        "embedding = OpenAIEmbeddings()\n",
        "\n",
        "vectordb = Chroma.from_documents(\n",
        "    documents = texts,\n",
        "    embedding = embedding\n",
        ")\n",
        "\n",
        "vectordb"
      ],
      "metadata": {
        "colab": {
          "base_uri": "https://localhost:8080/"
        },
        "id": "xIle__6wIMSJ",
        "outputId": "6575ad83-a3ce-4923-ced8-71ad709cd54e"
      },
      "execution_count": 10,
      "outputs": [
        {
          "output_type": "execute_result",
          "data": {
            "text/plain": [
              "<langchain_community.vectorstores.chroma.Chroma at 0x7e0ad044c9d0>"
            ]
          },
          "metadata": {},
          "execution_count": 10
        }
      ]
    },
    {
      "cell_type": "markdown",
      "source": [
        "### Make a retriever\n",
        " - 벡터 도구 객체를 선언하고 나면 as_retriever()함수를 이용해 입력된 텍스트로부터 유사한 텍스트를 찾아주는 검색기를 선언한다."
      ],
      "metadata": {
        "id": "nVP9MA4tIb6o"
      }
    },
    {
      "cell_type": "code",
      "source": [
        "retriever = vectordb.as_retriever()"
      ],
      "metadata": {
        "id": "qP-oHc2VIjEn"
      },
      "execution_count": 11,
      "outputs": []
    },
    {
      "cell_type": "code",
      "source": [
        "docs = retriever.get_relevant_documents('오십견 알려줘.')\n",
        "print('유사 문서 개수:', len(docs))\n",
        "print('--'*20)\n",
        "print('첫번째 유사 문서:', docs[0])\n",
        "print('--'*20)\n",
        "print('각 유사 문서의 문서 출처:')\n",
        "for doc in docs:\n",
        "  print(doc.metadata[\"source\"])"
      ],
      "metadata": {
        "colab": {
          "base_uri": "https://localhost:8080/"
        },
        "id": "PkRhNV_qLINW",
        "outputId": "0c956151-d0c2-41cb-9eb4-4f1bfafd83f6"
      },
      "execution_count": 13,
      "outputs": [
        {
          "output_type": "stream",
          "name": "stdout",
          "text": [
            "유사 문서 개수: 4\n",
            "----------------------------------------\n",
            "첫번째 유사 문서: page_content='오십견은 나이든 사람에게만 생기나요 ?\\n아닙니다. 흔히 어깨가 아프면 오십견이라고 생각하기 쉬우나 어깨 통증의 원인은 오십견 뿐만 아니라 다음과 같이 많은 질환에 의해 야기될 수 있습니다.\\n<어깨통증의 원인>\\n1.오십견 (유착성 견관절낭염) 2.어깨 관절 충돌 증후군 (건초염, 점액낭염)\\n3.회전근개 파열\\n4.근막통 증후군\\n5.관절염\\n6.경추 디스크 질환\\n7.경추 퇴행성 질환\\n8.경추 신경근 병변\\n9.내장 질환 (심근경색증, 폐 질환 등 )\\n그중 오십견은 어깨관절의 한 구조물인 피낭의 염증으로 피낭을 섬유화하고 두껍게 하며, 활액의 반응도 유착되어 정상적인 피낭의 유연성이 소실되고, 외회전, 회전 및 내전의 가동력을 제한받는 것을 말합니다. 오십견은 다음과 같은 경우 발생될 수 있습니다.\\n<오십견의 원인>\\n1. 움직이지 않아서 발생\\n2. 자가 면역 반응\\n3. 부상 후 발생\\n4. 점액낭염, 건초염, 충돌 증후군, 회전근개 파열과 동반\\n이렇게 어깨구조물의 염증이 야기되고 최종적으로 어깨관절이 굳은 현상을 유착성 낭염이라고 합니다. 이것은 보통 오십대에 많이 발생해서 오십견으로 흔히 알려져 왔습니다. 그러나 오십견은 위와같은 원인이 있는 경우 연령에 상관없이 누구에게나 발생할 수 있습니다. 최근에는 운동부족과 장시간에 걸친 어깨의 과도한 사용으로 20-30대에서도 흔히 발생됩니다.\\n오십견은 어깨의 유착성 관절낭염으로 어깨의 관절낭에 염증이 생기거나, 이와 동반되어 통증 및 굳어지는 증상이 생기는 질환입니다. 오십견이라 불리지만 반드시 오십대나 나이든 사람에게만 생기는 것은 아니며, 그보다 젊은 연령층에서도 발생할 수 있습니다. 팔을 많이 쓰는 사람이나 주부에게 많이 오는 것이 특징이며 최근에는 잘못된 자세로 컴퓨터를 장시간 사용하거나 스트레스, 운동부족 등도 원인이 되는 것으로 알려져 있습니다.' metadata={'source': 'data/data_hwell/37.txt'}\n",
            "----------------------------------------\n",
            "각 유사 문서의 문서 출처:\n",
            "data/data_hwell/37.txt\n",
            "data/data_hwell/39.txt\n",
            "data/data_hwell/1.txt\n",
            "data/data_hwell/33.txt\n"
          ]
        }
      ]
    },
    {
      "cell_type": "markdown",
      "source": [
        "### 결과를 k개 반환"
      ],
      "metadata": {
        "id": "v50oTamHQav9"
      }
    },
    {
      "cell_type": "code",
      "source": [
        "retriever = vectordb.as_retriever(search_kwargs={'k':2})"
      ],
      "metadata": {
        "id": "eRhUdOAxQdKo"
      },
      "execution_count": 14,
      "outputs": []
    },
    {
      "cell_type": "code",
      "source": [
        "docs = retriever.get_relevant_documents('오십견 알려줘.')\n",
        "for doc in docs:\n",
        "  print(doc.metadata['source'])\n",
        "print(docs)"
      ],
      "metadata": {
        "colab": {
          "base_uri": "https://localhost:8080/"
        },
        "id": "fypyhOImQlKP",
        "outputId": "12236720-89a4-4abd-9fe9-873f0b71d716"
      },
      "execution_count": 15,
      "outputs": [
        {
          "output_type": "stream",
          "name": "stdout",
          "text": [
            "data/data_hwell/37.txt\n",
            "data/data_hwell/39.txt\n",
            "[Document(page_content='오십견은 나이든 사람에게만 생기나요 ?\\n아닙니다. 흔히 어깨가 아프면 오십견이라고 생각하기 쉬우나 어깨 통증의 원인은 오십견 뿐만 아니라 다음과 같이 많은 질환에 의해 야기될 수 있습니다.\\n<어깨통증의 원인>\\n1.오십견 (유착성 견관절낭염) 2.어깨 관절 충돌 증후군 (건초염, 점액낭염)\\n3.회전근개 파열\\n4.근막통 증후군\\n5.관절염\\n6.경추 디스크 질환\\n7.경추 퇴행성 질환\\n8.경추 신경근 병변\\n9.내장 질환 (심근경색증, 폐 질환 등 )\\n그중 오십견은 어깨관절의 한 구조물인 피낭의 염증으로 피낭을 섬유화하고 두껍게 하며, 활액의 반응도 유착되어 정상적인 피낭의 유연성이 소실되고, 외회전, 회전 및 내전의 가동력을 제한받는 것을 말합니다. 오십견은 다음과 같은 경우 발생될 수 있습니다.\\n<오십견의 원인>\\n1. 움직이지 않아서 발생\\n2. 자가 면역 반응\\n3. 부상 후 발생\\n4. 점액낭염, 건초염, 충돌 증후군, 회전근개 파열과 동반\\n이렇게 어깨구조물의 염증이 야기되고 최종적으로 어깨관절이 굳은 현상을 유착성 낭염이라고 합니다. 이것은 보통 오십대에 많이 발생해서 오십견으로 흔히 알려져 왔습니다. 그러나 오십견은 위와같은 원인이 있는 경우 연령에 상관없이 누구에게나 발생할 수 있습니다. 최근에는 운동부족과 장시간에 걸친 어깨의 과도한 사용으로 20-30대에서도 흔히 발생됩니다.\\n오십견은 어깨의 유착성 관절낭염으로 어깨의 관절낭에 염증이 생기거나, 이와 동반되어 통증 및 굳어지는 증상이 생기는 질환입니다. 오십견이라 불리지만 반드시 오십대나 나이든 사람에게만 생기는 것은 아니며, 그보다 젊은 연령층에서도 발생할 수 있습니다. 팔을 많이 쓰는 사람이나 주부에게 많이 오는 것이 특징이며 최근에는 잘못된 자세로 컴퓨터를 장시간 사용하거나 스트레스, 운동부족 등도 원인이 되는 것으로 알려져 있습니다.', metadata={'source': 'data/data_hwell/37.txt'}), Document(page_content='알레르기성비염의 원인물질을 어떻게 피할 수 있을까요?\\n원인이 되는 항원을 피하는 것은 쉬운 일은 아닙니다. 주로 원인이 되는 집먼지 진드기, 곰팡이를 없애기 위해서는 침실과 거실에 헝겊 천의 소파, 양탄자, 커튼 등을 치웁니다. 침대의 메트리스나 베개는 특수천이나 플라스틱 커버를 사용합니다. 소파는 되도록 사용하지 않는 것이 좋으며, 부득이한 경우 가죽이나 등나무 소파를 사용합니다. 어린이의 장남감은 천으로 된 인형 등은 피합니다. 이불이나 베개는 2주에 한번씩 60도 이상의 온수에서 빨아 사용합니다. 청소는 자주하는 것이 좋으며, 적어도 일주일에 1-2회는 젖은 걸레로 방바닥을 꼭 청소 합니다. 청소 중이나 청소 직후에는 먼지가 많이 나니 약 10분 후에 환자는 방에 들어갑니다. 집안 청소와 다른 집안일을 할 때는 마스크를 착용하는 것이 좋습니다.\\n실내에서는 담배를 피우지 않으며, 고양이와 개 등의 애완동물은 실내에서 키우지 않습니다. 판매중인 살충제도 어느 정도 효과는 있으나 완벽하지는 못합니다. 가습기를 사용 할때는 적정 습도를 유지하는 것이 좋습니다. 진드기는 상대습도 75-80%에서 가장 잘 성장하고 50%이하에서는 살 수 없습니다. 이상적인 상대 습도는 40-50%입니다. 원인을 완벽하게 피하기는 쉬운일이 아니지만 꾸준하게 지속적인 노력이 필요합니다.', metadata={'source': 'data/data_hwell/39.txt'})]\n"
          ]
        }
      ]
    },
    {
      "cell_type": "markdown",
      "source": [
        "chain_type = 'stuff'의 내부처리\n",
        "\n",
        "```\n",
        "Use the following pieces of context to answer the users question.\n",
        "If you don't know the answer, just say that you don't know, don't try to make up an answer.\n",
        "----------------\n",
        "{텍스트}\n",
        "\n",
        "{질문}\n",
        "```\n",
        "\n",
        "{텍스트}에는 입력데이터와 유사도가 높은 텍스트의 본문이 삽입되고,  \n",
        "{질문}에는 입력 텍스트가 삽입되는 구조이다."
      ],
      "metadata": {
        "id": "um-C0NwZRrP1"
      }
    },
    {
      "cell_type": "code",
      "source": [
        "qa_chain = RetrievalQA.from_chain_type(\n",
        "    llm = ChatOpenAI(model_name = 'gpt-3.5-turbo', temperature = 0),\n",
        "    chain_type = 'stuff',\n",
        "    retriever = retriever,\n",
        "    return_source_documents = True)"
      ],
      "metadata": {
        "id": "_uwm1YnGRzo_"
      },
      "execution_count": 16,
      "outputs": []
    },
    {
      "cell_type": "markdown",
      "source": [
        "### Query"
      ],
      "metadata": {
        "id": "8ov_5_2_UyT0"
      }
    },
    {
      "cell_type": "code",
      "source": [
        "input_text = '오십견 알려줘.'\n",
        "chatbot_response = qa_chain(input_text)\n",
        "print(chatbot_response)"
      ],
      "metadata": {
        "colab": {
          "base_uri": "https://localhost:8080/"
        },
        "id": "SqyWUZTXVG8t",
        "outputId": "019d9505-4da4-4201-b570-e5252404837c"
      },
      "execution_count": 17,
      "outputs": [
        {
          "output_type": "stream",
          "name": "stdout",
          "text": [
            "{'query': '오십견 알려줘.', 'result': '오십견은 어깨의 유착성 관절낭염으로 어깨의 관절낭에 염증이 생기거나, 이와 동반되어 통증 및 굳어지는 증상이 생기는 질환입니다. 오십견이라 불리지만 반드시 오십대나 나이든 사람에게만 생기는 것은 아니며, 그보다 젊은 연령층에서도 발생할 수 있습니다. 팔을 많이 쓰는 사람이나 주부에게 많이 오는 것이 특징이며 최근에는 잘못된 자세로 컴퓨터를 장시간 사용하거나 스트레스, 운동부족 등도 원인이 되는 것으로 알려져 있습니다.', 'source_documents': [Document(page_content='오십견은 나이든 사람에게만 생기나요 ?\\n아닙니다. 흔히 어깨가 아프면 오십견이라고 생각하기 쉬우나 어깨 통증의 원인은 오십견 뿐만 아니라 다음과 같이 많은 질환에 의해 야기될 수 있습니다.\\n<어깨통증의 원인>\\n1.오십견 (유착성 견관절낭염) 2.어깨 관절 충돌 증후군 (건초염, 점액낭염)\\n3.회전근개 파열\\n4.근막통 증후군\\n5.관절염\\n6.경추 디스크 질환\\n7.경추 퇴행성 질환\\n8.경추 신경근 병변\\n9.내장 질환 (심근경색증, 폐 질환 등 )\\n그중 오십견은 어깨관절의 한 구조물인 피낭의 염증으로 피낭을 섬유화하고 두껍게 하며, 활액의 반응도 유착되어 정상적인 피낭의 유연성이 소실되고, 외회전, 회전 및 내전의 가동력을 제한받는 것을 말합니다. 오십견은 다음과 같은 경우 발생될 수 있습니다.\\n<오십견의 원인>\\n1. 움직이지 않아서 발생\\n2. 자가 면역 반응\\n3. 부상 후 발생\\n4. 점액낭염, 건초염, 충돌 증후군, 회전근개 파열과 동반\\n이렇게 어깨구조물의 염증이 야기되고 최종적으로 어깨관절이 굳은 현상을 유착성 낭염이라고 합니다. 이것은 보통 오십대에 많이 발생해서 오십견으로 흔히 알려져 왔습니다. 그러나 오십견은 위와같은 원인이 있는 경우 연령에 상관없이 누구에게나 발생할 수 있습니다. 최근에는 운동부족과 장시간에 걸친 어깨의 과도한 사용으로 20-30대에서도 흔히 발생됩니다.\\n오십견은 어깨의 유착성 관절낭염으로 어깨의 관절낭에 염증이 생기거나, 이와 동반되어 통증 및 굳어지는 증상이 생기는 질환입니다. 오십견이라 불리지만 반드시 오십대나 나이든 사람에게만 생기는 것은 아니며, 그보다 젊은 연령층에서도 발생할 수 있습니다. 팔을 많이 쓰는 사람이나 주부에게 많이 오는 것이 특징이며 최근에는 잘못된 자세로 컴퓨터를 장시간 사용하거나 스트레스, 운동부족 등도 원인이 되는 것으로 알려져 있습니다.', metadata={'source': 'data/data_hwell/37.txt'}), Document(page_content='알레르기성비염의 원인물질을 어떻게 피할 수 있을까요?\\n원인이 되는 항원을 피하는 것은 쉬운 일은 아닙니다. 주로 원인이 되는 집먼지 진드기, 곰팡이를 없애기 위해서는 침실과 거실에 헝겊 천의 소파, 양탄자, 커튼 등을 치웁니다. 침대의 메트리스나 베개는 특수천이나 플라스틱 커버를 사용합니다. 소파는 되도록 사용하지 않는 것이 좋으며, 부득이한 경우 가죽이나 등나무 소파를 사용합니다. 어린이의 장남감은 천으로 된 인형 등은 피합니다. 이불이나 베개는 2주에 한번씩 60도 이상의 온수에서 빨아 사용합니다. 청소는 자주하는 것이 좋으며, 적어도 일주일에 1-2회는 젖은 걸레로 방바닥을 꼭 청소 합니다. 청소 중이나 청소 직후에는 먼지가 많이 나니 약 10분 후에 환자는 방에 들어갑니다. 집안 청소와 다른 집안일을 할 때는 마스크를 착용하는 것이 좋습니다.\\n실내에서는 담배를 피우지 않으며, 고양이와 개 등의 애완동물은 실내에서 키우지 않습니다. 판매중인 살충제도 어느 정도 효과는 있으나 완벽하지는 못합니다. 가습기를 사용 할때는 적정 습도를 유지하는 것이 좋습니다. 진드기는 상대습도 75-80%에서 가장 잘 성장하고 50%이하에서는 살 수 없습니다. 이상적인 상대 습도는 40-50%입니다. 원인을 완벽하게 피하기는 쉬운일이 아니지만 꾸준하게 지속적인 노력이 필요합니다.', metadata={'source': 'data/data_hwell/39.txt'})]}\n"
          ]
        }
      ]
    },
    {
      "cell_type": "code",
      "source": [
        "def get_chatbot_response(chatbot_response):\n",
        "  print(chatbot_response['result'].strip())\n",
        "  print('\\n문서 출처:')\n",
        "  for source in chatbot_response['source_documents']:\n",
        "    print(source.metadata['source'])"
      ],
      "metadata": {
        "id": "euuM5X64Zq50"
      },
      "execution_count": 18,
      "outputs": []
    },
    {
      "cell_type": "code",
      "source": [
        "input_text = '다이어트 어떻게 해야해?'\n",
        "chatbot_response = qa_chain(input_text)\n",
        "get_chatbot_response(chatbot_response)"
      ],
      "metadata": {
        "colab": {
          "base_uri": "https://localhost:8080/"
        },
        "id": "di1EuC9IZ8gK",
        "outputId": "19c54537-ac74-458e-9c74-f8c0929db6c1"
      },
      "execution_count": 19,
      "outputs": [
        {
          "output_type": "stream",
          "name": "stdout",
          "text": [
            "다이어트를 위해서는 몇 가지 중요한 요소를 고려해야 합니다. \n",
            "\n",
            "1. 식단 조절: 칼로리 섭취를 줄이기 위해 과일, 채소, 단백질이 풍부한 식품을 섭취하고, 과다한 포만감을 주는 음식이나 당분이 많은 음식은 피해야 합니다. 또한, 식사를 규칙적으로 하고 과식을 피하는 것이 중요합니다.\n",
            "\n",
            "2. 운동: 유산소 운동과 근력 운동을 조합하여 신체 활동량을 늘리고 근육을 강화하는 것이 좋습니다. 유산소 운동으로는 걷기, 달리기, 수영 등이 있으며, 근력 운동으로는 체중 트레이닝, 요가, 필라테스 등을 선택할 수 있습니다.\n",
            "\n",
            "3. 건강한 생활습관: 충분한 수면을 취하고 스트레스를 관리하는 것이 중요합니다. 또한, 알코올과 담배를 줄이거나 피하는 것도 좋습니다.\n",
            "\n",
            "4. 전문가와의 상담: 다이어트에 대한 전문가의 조언을 듣고 개인에게 맞는 목표와 방법을 설정하는 것이 좋습니다. 전문가와의 상담을 통해 식단과 운동 계획을 세울 수 있습니다.\n",
            "\n",
            "다이어트를 시작하기 전에 건강 상태와 목표를 고려하여 계획을 세우는 것이 중요합니다. 무리한 다이어트는 건강에 해로울 수 있으므로 꾸준하고 안전한 방법으로 다이어트를 진행하는 것이 좋습니다.\n",
            "\n",
            "문서 출처:\n",
            "data/data_hwell/44.txt\n",
            "data/data_hwell/3.txt\n"
          ]
        }
      ]
    },
    {
      "cell_type": "code",
      "source": [
        "chatbot_response"
      ],
      "metadata": {
        "colab": {
          "base_uri": "https://localhost:8080/"
        },
        "id": "zOAzknWoa_3z",
        "outputId": "16db7252-f1e2-4ebc-f53b-86a62141aeeb"
      },
      "execution_count": 20,
      "outputs": [
        {
          "output_type": "execute_result",
          "data": {
            "text/plain": [
              "{'query': '다이어트 어떻게 해야해?',\n",
              " 'result': '다이어트를 위해서는 몇 가지 중요한 요소를 고려해야 합니다. \\n\\n1. 식단 조절: 칼로리 섭취를 줄이기 위해 과일, 채소, 단백질이 풍부한 식품을 섭취하고, 과다한 포만감을 주는 음식이나 당분이 많은 음식은 피해야 합니다. 또한, 식사를 규칙적으로 하고 과식을 피하는 것이 중요합니다.\\n\\n2. 운동: 유산소 운동과 근력 운동을 조합하여 신체 활동량을 늘리고 근육을 강화하는 것이 좋습니다. 유산소 운동으로는 걷기, 달리기, 수영 등이 있으며, 근력 운동으로는 체중 트레이닝, 요가, 필라테스 등을 선택할 수 있습니다.\\n\\n3. 건강한 생활습관: 충분한 수면을 취하고 스트레스를 관리하는 것이 중요합니다. 또한, 알코올과 담배를 줄이거나 피하는 것도 좋습니다.\\n\\n4. 전문가와의 상담: 다이어트에 대한 전문가의 조언을 듣고 개인에게 맞는 목표와 방법을 설정하는 것이 좋습니다. 전문가와의 상담을 통해 식단과 운동 계획을 세울 수 있습니다.\\n\\n다이어트를 시작하기 전에 건강 상태와 목표를 고려하여 계획을 세우는 것이 중요합니다. 무리한 다이어트는 건강에 해로울 수 있으므로 꾸준하고 안전한 방법으로 다이어트를 진행하는 것이 좋습니다.',\n",
              " 'source_documents': [Document(page_content='남성에 있어서도 비만이 혈관질환과 내분비장애를 초래하여 성욕의 저하, 발기 부전, 불임등을 초래하는 것으로 알려져 있습니다.\\n그러므로, 체중감량을 하게 되면 남성이나 여성 모두 성기능에 긍정적인 영향을 미친다고 할수 있겠습니다.\\n주의해야 할 점은 무리한 다이어트를 하게 되면 성기능에 부정적인 영향을 미칠 수도 있다는 것입니다. 여성의 경우 무리한 다이어트로 인해 단백질이 심하게 부족하게 되면 성호르몬에 영향을 받게 되어 생식능력에 장애가 올수 있습니다. 또한 생명 유지에 꼭 필요하지 않은 기능부터 손상되기 때문에 생리 불순에 걸리거나 심할 때는 아예 생리가 없어지기도 합니다. 이 정도까지 가면 다이어트를 하더라도 아침, 점심, 저녁 세끼를 반드시 먹는 방법으로 바꾸고 생리일을 적어놓아 언제 생리가 있었는지를 의식하면서 다이어트를 계속해야합니다. 만약 3개월 이상 생리가 없다면 위험 신호이므로 당장 다이어트를 중단해야 합니다.\\n이러한 일들을 방지하기 위해 전문가와의 꾸준한 상담을 통해 자기 몸에 맞는 목표를 설정하여 식사 조절과 운동등의 기본적인 방법으로 지속적으로 실천하는 것이 중요합니다.', metadata={'source': 'data/data_hwell/44.txt'}),\n",
              "  Document(page_content='요통에 좋은 운동과 예방법은?\\n요통의 예방과 치료는 무엇보다도 질병에 대한 교육이 중요하고 평소에 바른 자세 생활 등 자기 관리가 가장 중요하다고 하겠습니다. 과로에 대해서는 쉽게 피로하지 않는 건강한 몸을 만들어 주는 것이 중요하며, 다리와 허리를 튼튼하게 근 기능을 단련하는 것이 필요합니다. 요통의 예방에는 허리근육 강화가 아주 중요합니다. 자신이 버틸 수 있는 것보다 과도한  힘이 허리에 가해질 때 요통이 야기되는데 이것을 예방하려면 허리에 무리하지 않거나 무리가 되더라도 감당할 수 있게 허리근육을 강화하는 것입니다. 이것이 요통환자에 있어서 통증의 악순환을 차단하는 가장 중요한 것입니다.\\n<하부 허리와 복부근육 강화운동법>\\n1.똑바로 누워서 무릎을 세운다.\\n2.배에 힘을 주고 허리를 바닥에 대고 누르듯이 한다. 이때 엉덩이를 바닥에서 살짝 들고 항문에 힘을 준다. 그림(b) \\n3.10 ~15초 동안 힘을 주다가 힘을 뺀다. 점차 힘을 주는 시간을 늘려서 60초까지 하게 한다\\n4.2회 반복한다. \\n5.하루에 한 번 시행한다.\\n <올바른 물건 들기와 옮기기 방법>\\n 올바른 물건 들기와 옮기기 방법을 익힘으로써 허리의 부상을 방지할 수가 있습니다. 무거운 물건을 들 때는 허리를 굽혀서 들지 말고 허리를 세운 상태로 무릎을 굽혀서 엉덩이와 다리의 힘을 이용해서 들도록 해야 하고, 무거운 물건을 들고 허리를 비트는 동작은 대단히 위험하므로 허리를 비틀어서 방향을 전환하기보다는 발을 옮겨서 방향을 돌려야 합니다. 이 때 물체를 몸과 떨어뜨려서 들고 서 있는 것은 허리에 무리한 힘을 주어 과중한 스트레스를 가하게 되므로 물건을 들 때는 물체와 몸을 최대한 가까이 밀착시켜야 합니다. 가벼운 물건을 들 때도 허리를 굽히지 말고 물건을 들어 올려야 합니다. 의자에 앉을 때나 자동차 운전을 할 때는 둔부를 의자 등받이에 바짝 붙여서 앉고 고관절(히프 관절)과 몸통과의 각도 및 무릎의 구부린 각도는 모두 90도를 유지하도록 하는 것이 좋습니다.\\n <올바른 자세와 생활>', metadata={'source': 'data/data_hwell/3.txt'})]}"
            ]
          },
          "metadata": {},
          "execution_count": 20
        }
      ]
    },
    {
      "cell_type": "code",
      "source": [
        "input_text = '다이어트 어떻게 해야해?'\n",
        "llm_response = qa_chain(input_text)\n",
        "get_chatbot_response(llm_response)"
      ],
      "metadata": {
        "colab": {
          "base_uri": "https://localhost:8080/"
        },
        "id": "k7ehUiYIbBq0",
        "outputId": "658bfb2c-dea2-419c-f020-c1e0e8dc8f75"
      },
      "execution_count": 22,
      "outputs": [
        {
          "output_type": "stream",
          "name": "stdout",
          "text": [
            "다이어트를 위해서는 몇 가지 중요한 점을 고려해야 합니다. \n",
            "\n",
            "1. 식단 조절: 칼로리 섭취를 줄이기 위해 과일, 채소, 단백질이 풍부한 식품을 섭취하고, 과다한 지방과 당을 피해야 합니다. 균형 잡힌 식단을 유지하며, 식사를 규칙적으로 하고 과식을 피해야 합니다.\n",
            "\n",
            "2. 운동: 유산소 운동과 근력 운동을 조합하여 신체 활동량을 늘리고 근육을 강화해야 합니다. 걷기, 달리기, 수영 등의 유산소 운동과 체력 단련을 위한 근력 운동을 선택할 수 있습니다.\n",
            "\n",
            "3. 생활 습관: 충분한 수면을 취하고 스트레스를 관리하는 것이 중요합니다. 스트레스로 인해 과식을 하는 경우가 많으므로, 스트레스를 효과적으로 해소하는 방법을 찾아야 합니다.\n",
            "\n",
            "4. 전문가 상담: 다이어트에 대한 전문가와의 상담을 통해 개인에게 맞는 목표와 방법을 설정하는 것이 좋습니다. 전문가의 조언과 도움을 받으면 더 효과적인 다이어트를 할 수 있습니다.\n",
            "\n",
            "다이어트는 각 개인의 몸 상태와 목표에 따라 다를 수 있으므로, 자신에게 맞는 방법을 찾아 실천하는 것이 중요합니다.\n",
            "\n",
            "문서 출처:\n",
            "data/data_hwell/44.txt\n",
            "data/data_hwell/3.txt\n"
          ]
        }
      ]
    },
    {
      "cell_type": "code",
      "source": [
        "query = '다이어트 어떻게 해야해?'\n",
        "llm_response = qa_chain(query)\n",
        "get_chatbot_response(llm_response)"
      ],
      "metadata": {
        "colab": {
          "base_uri": "https://localhost:8080/"
        },
        "id": "dRsPZF1pcc9y",
        "outputId": "0cef96bd-a8d3-4caa-f5ec-0edf6fb1b02b"
      },
      "execution_count": 23,
      "outputs": [
        {
          "output_type": "stream",
          "name": "stdout",
          "text": [
            "다이어트를 위해서는 몇 가지 중요한 요소를 고려해야 합니다. \n",
            "\n",
            "1. 식단 조절: 칼로리 섭취를 줄이기 위해 과일, 채소, 단백질이 풍부한 식품을 섭취하고, 과다한 포만감을 주는 음식이나 당분이 많은 음식은 피해야 합니다. 또한, 식사를 규칙적으로 하고 과식을 피하는 것이 중요합니다.\n",
            "\n",
            "2. 운동: 유산소 운동과 근력 운동을 조합하여 신체 활동량을 늘리고 근육을 강화하는 것이 좋습니다. 유산소 운동으로는 걷기, 달리기, 수영 등이 있으며, 근력 운동으로는 체중 트레이닝, 요가, 필라테스 등을 선택할 수 있습니다.\n",
            "\n",
            "3. 건강한 생활습관: 충분한 수면을 취하고 스트레스를 관리하는 것이 중요합니다. 또한, 알코올과 담배를 줄이거나 피하는 것도 좋습니다.\n",
            "\n",
            "4. 전문가와의 상담: 개인의 몸 상태와 목표에 맞는 다이어트 방법을 위해 전문가와 상담하는 것이 좋습니다. 영양사나 트레이너와 함께 목표를 설정하고 계획을 세울 수 있습니다.\n",
            "\n",
            "다이어트는 각 개인의 몸 상태와 목표에 따라 다를 수 있으므로, 자신에게 맞는 방법을 찾기 위해 전문가와의 상담이 필요합니다.\n",
            "\n",
            "문서 출처:\n",
            "data/data_hwell/44.txt\n",
            "data/data_hwell/3.txt\n"
          ]
        }
      ]
    },
    {
      "cell_type": "markdown",
      "source": [
        "### Gradio로 챗봇 UI만들기"
      ],
      "metadata": {
        "id": "WqK9nYzce6Ly"
      }
    },
    {
      "cell_type": "code",
      "source": [
        "!pip install gradio==3.40.1"
      ],
      "metadata": {
        "colab": {
          "base_uri": "https://localhost:8080/"
        },
        "id": "gZi9UL7heH2Y",
        "outputId": "82af9903-6ece-4848-bf49-89af50aee13b"
      },
      "execution_count": 25,
      "outputs": [
        {
          "output_type": "stream",
          "name": "stdout",
          "text": [
            "Collecting gradio==3.40.1\n",
            "  Downloading gradio-3.40.1-py3-none-any.whl (20.0 MB)\n",
            "\u001b[2K     \u001b[90m━━━━━━━━━━━━━━━━━━━━━━━━━━━━━━━━━━━━━━━━\u001b[0m \u001b[32m20.0/20.0 MB\u001b[0m \u001b[31m9.5 MB/s\u001b[0m eta \u001b[36m0:00:00\u001b[0m\n",
            "\u001b[?25hCollecting aiofiles<24.0,>=22.0 (from gradio==3.40.1)\n",
            "  Downloading aiofiles-23.2.1-py3-none-any.whl (15 kB)\n",
            "Requirement already satisfied: aiohttp~=3.0 in /usr/local/lib/python3.10/dist-packages (from gradio==3.40.1) (3.9.1)\n",
            "Requirement already satisfied: altair<6.0,>=4.2.0 in /usr/local/lib/python3.10/dist-packages (from gradio==3.40.1) (4.2.2)\n",
            "Requirement already satisfied: fastapi in /usr/local/lib/python3.10/dist-packages (from gradio==3.40.1) (0.108.0)\n",
            "Collecting ffmpy (from gradio==3.40.1)\n",
            "  Downloading ffmpy-0.3.1.tar.gz (5.5 kB)\n",
            "  Preparing metadata (setup.py) ... \u001b[?25l\u001b[?25hdone\n",
            "Collecting gradio-client>=0.4.0 (from gradio==3.40.1)\n",
            "  Downloading gradio_client-0.8.0-py3-none-any.whl (305 kB)\n",
            "\u001b[2K     \u001b[90m━━━━━━━━━━━━━━━━━━━━━━━━━━━━━━━━━━━━━━━━\u001b[0m \u001b[32m305.1/305.1 kB\u001b[0m \u001b[31m16.1 MB/s\u001b[0m eta \u001b[36m0:00:00\u001b[0m\n",
            "\u001b[?25hCollecting httpx (from gradio==3.40.1)\n",
            "  Downloading httpx-0.26.0-py3-none-any.whl (75 kB)\n",
            "\u001b[2K     \u001b[90m━━━━━━━━━━━━━━━━━━━━━━━━━━━━━━━━━━━━━━━━\u001b[0m \u001b[32m75.9/75.9 kB\u001b[0m \u001b[31m7.3 MB/s\u001b[0m eta \u001b[36m0:00:00\u001b[0m\n",
            "\u001b[?25hRequirement already satisfied: huggingface-hub>=0.14.0 in /usr/local/lib/python3.10/dist-packages (from gradio==3.40.1) (0.20.1)\n",
            "Requirement already satisfied: importlib-resources<7.0,>=1.3 in /usr/local/lib/python3.10/dist-packages (from gradio==3.40.1) (6.1.1)\n",
            "Requirement already satisfied: jinja2<4.0 in /usr/local/lib/python3.10/dist-packages (from gradio==3.40.1) (3.1.2)\n",
            "Requirement already satisfied: markdown-it-py[linkify]>=2.0.0 in /usr/local/lib/python3.10/dist-packages (from gradio==3.40.1) (3.0.0)\n",
            "Requirement already satisfied: markupsafe~=2.0 in /usr/local/lib/python3.10/dist-packages (from gradio==3.40.1) (2.1.3)\n",
            "Requirement already satisfied: matplotlib~=3.0 in /usr/local/lib/python3.10/dist-packages (from gradio==3.40.1) (3.7.1)\n",
            "Collecting mdit-py-plugins<=0.3.3 (from gradio==3.40.1)\n",
            "  Downloading mdit_py_plugins-0.3.3-py3-none-any.whl (50 kB)\n",
            "\u001b[2K     \u001b[90m━━━━━━━━━━━━━━━━━━━━━━━━━━━━━━━━━━━━━━━━\u001b[0m \u001b[32m50.5/50.5 kB\u001b[0m \u001b[31m6.7 MB/s\u001b[0m eta \u001b[36m0:00:00\u001b[0m\n",
            "\u001b[?25hRequirement already satisfied: numpy~=1.0 in /usr/local/lib/python3.10/dist-packages (from gradio==3.40.1) (1.23.5)\n",
            "Collecting orjson~=3.0 (from gradio==3.40.1)\n",
            "  Downloading orjson-3.9.10-cp310-cp310-manylinux_2_17_x86_64.manylinux2014_x86_64.whl (138 kB)\n",
            "\u001b[2K     \u001b[90m━━━━━━━━━━━━━━━━━━━━━━━━━━━━━━━━━━━━━━━━\u001b[0m \u001b[32m138.7/138.7 kB\u001b[0m \u001b[31m13.3 MB/s\u001b[0m eta \u001b[36m0:00:00\u001b[0m\n",
            "\u001b[?25hRequirement already satisfied: packaging in /usr/local/lib/python3.10/dist-packages (from gradio==3.40.1) (23.2)\n",
            "Requirement already satisfied: pandas<3.0,>=1.0 in /usr/local/lib/python3.10/dist-packages (from gradio==3.40.1) (1.5.3)\n",
            "Requirement already satisfied: pillow<11.0,>=8.0 in /usr/local/lib/python3.10/dist-packages (from gradio==3.40.1) (9.4.0)\n",
            "Requirement already satisfied: pydantic!=1.8,!=1.8.1,!=2.0.0,!=2.0.1,<3.0.0,>=1.7.4 in /usr/local/lib/python3.10/dist-packages (from gradio==3.40.1) (1.10.13)\n",
            "Collecting pydub (from gradio==3.40.1)\n",
            "  Downloading pydub-0.25.1-py2.py3-none-any.whl (32 kB)\n",
            "Collecting python-multipart (from gradio==3.40.1)\n",
            "  Downloading python_multipart-0.0.6-py3-none-any.whl (45 kB)\n",
            "\u001b[2K     \u001b[90m━━━━━━━━━━━━━━━━━━━━━━━━━━━━━━━━━━━━━━━━\u001b[0m \u001b[32m45.7/45.7 kB\u001b[0m \u001b[31m3.0 MB/s\u001b[0m eta \u001b[36m0:00:00\u001b[0m\n",
            "\u001b[?25hRequirement already satisfied: pyyaml<7.0,>=5.0 in /usr/local/lib/python3.10/dist-packages (from gradio==3.40.1) (6.0.1)\n",
            "Requirement already satisfied: requests~=2.0 in /usr/local/lib/python3.10/dist-packages (from gradio==3.40.1) (2.31.0)\n",
            "Collecting semantic-version~=2.0 (from gradio==3.40.1)\n",
            "  Downloading semantic_version-2.10.0-py2.py3-none-any.whl (15 kB)\n",
            "Requirement already satisfied: typing-extensions~=4.0 in /usr/local/lib/python3.10/dist-packages (from gradio==3.40.1) (4.9.0)\n",
            "Requirement already satisfied: uvicorn>=0.14.0 in /usr/local/lib/python3.10/dist-packages (from gradio==3.40.1) (0.25.0)\n",
            "Collecting websockets<12.0,>=10.0 (from gradio==3.40.1)\n",
            "  Downloading websockets-11.0.3-cp310-cp310-manylinux_2_5_x86_64.manylinux1_x86_64.manylinux_2_17_x86_64.manylinux2014_x86_64.whl (129 kB)\n",
            "\u001b[2K     \u001b[90m━━━━━━━━━━━━━━━━━━━━━━━━━━━━━━━━━━━━━━━━\u001b[0m \u001b[32m129.9/129.9 kB\u001b[0m \u001b[31m14.2 MB/s\u001b[0m eta \u001b[36m0:00:00\u001b[0m\n",
            "\u001b[?25hRequirement already satisfied: attrs>=17.3.0 in /usr/local/lib/python3.10/dist-packages (from aiohttp~=3.0->gradio==3.40.1) (23.1.0)\n",
            "Requirement already satisfied: multidict<7.0,>=4.5 in /usr/local/lib/python3.10/dist-packages (from aiohttp~=3.0->gradio==3.40.1) (6.0.4)\n",
            "Requirement already satisfied: yarl<2.0,>=1.0 in /usr/local/lib/python3.10/dist-packages (from aiohttp~=3.0->gradio==3.40.1) (1.9.4)\n",
            "Requirement already satisfied: frozenlist>=1.1.1 in /usr/local/lib/python3.10/dist-packages (from aiohttp~=3.0->gradio==3.40.1) (1.4.1)\n",
            "Requirement already satisfied: aiosignal>=1.1.2 in /usr/local/lib/python3.10/dist-packages (from aiohttp~=3.0->gradio==3.40.1) (1.3.1)\n",
            "Requirement already satisfied: async-timeout<5.0,>=4.0 in /usr/local/lib/python3.10/dist-packages (from aiohttp~=3.0->gradio==3.40.1) (4.0.3)\n",
            "Requirement already satisfied: entrypoints in /usr/local/lib/python3.10/dist-packages (from altair<6.0,>=4.2.0->gradio==3.40.1) (0.4)\n",
            "Requirement already satisfied: jsonschema>=3.0 in /usr/local/lib/python3.10/dist-packages (from altair<6.0,>=4.2.0->gradio==3.40.1) (4.19.2)\n",
            "Requirement already satisfied: toolz in /usr/local/lib/python3.10/dist-packages (from altair<6.0,>=4.2.0->gradio==3.40.1) (0.12.0)\n",
            "Requirement already satisfied: fsspec in /usr/local/lib/python3.10/dist-packages (from gradio-client>=0.4.0->gradio==3.40.1) (2023.6.0)\n",
            "Requirement already satisfied: filelock in /usr/local/lib/python3.10/dist-packages (from huggingface-hub>=0.14.0->gradio==3.40.1) (3.13.1)\n",
            "Requirement already satisfied: tqdm>=4.42.1 in /usr/local/lib/python3.10/dist-packages (from huggingface-hub>=0.14.0->gradio==3.40.1) (4.66.1)\n",
            "Requirement already satisfied: mdurl~=0.1 in /usr/local/lib/python3.10/dist-packages (from markdown-it-py[linkify]>=2.0.0->gradio==3.40.1) (0.1.2)\n",
            "Requirement already satisfied: linkify-it-py<3,>=1 in /usr/local/lib/python3.10/dist-packages (from markdown-it-py[linkify]>=2.0.0->gradio==3.40.1) (2.0.2)\n",
            "Requirement already satisfied: contourpy>=1.0.1 in /usr/local/lib/python3.10/dist-packages (from matplotlib~=3.0->gradio==3.40.1) (1.2.0)\n",
            "Requirement already satisfied: cycler>=0.10 in /usr/local/lib/python3.10/dist-packages (from matplotlib~=3.0->gradio==3.40.1) (0.12.1)\n",
            "Requirement already satisfied: fonttools>=4.22.0 in /usr/local/lib/python3.10/dist-packages (from matplotlib~=3.0->gradio==3.40.1) (4.47.0)\n",
            "Requirement already satisfied: kiwisolver>=1.0.1 in /usr/local/lib/python3.10/dist-packages (from matplotlib~=3.0->gradio==3.40.1) (1.4.5)\n",
            "Requirement already satisfied: pyparsing>=2.3.1 in /usr/local/lib/python3.10/dist-packages (from matplotlib~=3.0->gradio==3.40.1) (3.1.1)\n",
            "Requirement already satisfied: python-dateutil>=2.7 in /usr/local/lib/python3.10/dist-packages (from matplotlib~=3.0->gradio==3.40.1) (2.8.2)\n",
            "INFO: pip is looking at multiple versions of mdit-py-plugins to determine which version is compatible with other requirements. This could take a while.\n",
            "Collecting mdit-py-plugins<=0.3.3 (from gradio==3.40.1)\n",
            "  Downloading mdit_py_plugins-0.3.2-py3-none-any.whl (50 kB)\n",
            "\u001b[2K     \u001b[90m━━━━━━━━━━━━━━━━━━━━━━━━━━━━━━━━━━━━━━━━\u001b[0m \u001b[32m50.4/50.4 kB\u001b[0m \u001b[31m7.0 MB/s\u001b[0m eta \u001b[36m0:00:00\u001b[0m\n",
            "\u001b[?25h  Downloading mdit_py_plugins-0.3.1-py3-none-any.whl (46 kB)\n",
            "\u001b[2K     \u001b[90m━━━━━━━━━━━━━━━━━━━━━━━━━━━━━━━━━━━━━━━━\u001b[0m \u001b[32m46.5/46.5 kB\u001b[0m \u001b[31m6.7 MB/s\u001b[0m eta \u001b[36m0:00:00\u001b[0m\n",
            "\u001b[?25h  Downloading mdit_py_plugins-0.3.0-py3-none-any.whl (43 kB)\n",
            "\u001b[2K     \u001b[90m━━━━━━━━━━━━━━━━━━━━━━━━━━━━━━━━━━━━━━━━\u001b[0m \u001b[32m43.7/43.7 kB\u001b[0m \u001b[31m5.9 MB/s\u001b[0m eta \u001b[36m0:00:00\u001b[0m\n",
            "\u001b[?25h  Downloading mdit_py_plugins-0.2.8-py3-none-any.whl (41 kB)\n",
            "\u001b[2K     \u001b[90m━━━━━━━━━━━━━━━━━━━━━━━━━━━━━━━━━━━━━━━━\u001b[0m \u001b[32m41.0/41.0 kB\u001b[0m \u001b[31m5.0 MB/s\u001b[0m eta \u001b[36m0:00:00\u001b[0m\n",
            "\u001b[?25h  Downloading mdit_py_plugins-0.2.7-py3-none-any.whl (41 kB)\n",
            "\u001b[2K     \u001b[90m━━━━━━━━━━━━━━━━━━━━━━━━━━━━━━━━━━━━━━━━\u001b[0m \u001b[32m41.0/41.0 kB\u001b[0m \u001b[31m5.6 MB/s\u001b[0m eta \u001b[36m0:00:00\u001b[0m\n",
            "\u001b[?25h  Downloading mdit_py_plugins-0.2.6-py3-none-any.whl (39 kB)\n",
            "  Downloading mdit_py_plugins-0.2.5-py3-none-any.whl (39 kB)\n",
            "INFO: pip is looking at multiple versions of mdit-py-plugins to determine which version is compatible with other requirements. This could take a while.\n",
            "  Downloading mdit_py_plugins-0.2.4-py3-none-any.whl (39 kB)\n",
            "  Downloading mdit_py_plugins-0.2.3-py3-none-any.whl (39 kB)\n",
            "  Downloading mdit_py_plugins-0.2.2-py3-none-any.whl (39 kB)\n",
            "  Downloading mdit_py_plugins-0.2.1-py3-none-any.whl (38 kB)\n",
            "  Downloading mdit_py_plugins-0.2.0-py3-none-any.whl (38 kB)\n",
            "INFO: This is taking longer than usual. You might need to provide the dependency resolver with stricter constraints to reduce runtime. See https://pip.pypa.io/warnings/backtracking for guidance. If you want to abort this run, press Ctrl + C.\n",
            "  Downloading mdit_py_plugins-0.1.0-py3-none-any.whl (37 kB)\n",
            "Collecting markdown-it-py[linkify]>=2.0.0 (from gradio==3.40.1)\n",
            "  Downloading markdown_it_py-3.0.0-py3-none-any.whl (87 kB)\n",
            "\u001b[2K     \u001b[90m━━━━━━━━━━━━━━━━━━━━━━━━━━━━━━━━━━━━━━━━\u001b[0m \u001b[32m87.5/87.5 kB\u001b[0m \u001b[31m12.5 MB/s\u001b[0m eta \u001b[36m0:00:00\u001b[0m\n",
            "\u001b[?25h  Downloading markdown_it_py-2.2.0-py3-none-any.whl (84 kB)\n",
            "\u001b[2K     \u001b[90m━━━━━━━━━━━━━━━━━━━━━━━━━━━━━━━━━━━━━━━━\u001b[0m \u001b[32m84.5/84.5 kB\u001b[0m \u001b[31m11.8 MB/s\u001b[0m eta \u001b[36m0:00:00\u001b[0m\n",
            "\u001b[?25hRequirement already satisfied: pytz>=2020.1 in /usr/local/lib/python3.10/dist-packages (from pandas<3.0,>=1.0->gradio==3.40.1) (2023.3.post1)\n",
            "Requirement already satisfied: charset-normalizer<4,>=2 in /usr/local/lib/python3.10/dist-packages (from requests~=2.0->gradio==3.40.1) (3.3.2)\n",
            "Requirement already satisfied: idna<4,>=2.5 in /usr/local/lib/python3.10/dist-packages (from requests~=2.0->gradio==3.40.1) (3.6)\n",
            "Requirement already satisfied: urllib3<3,>=1.21.1 in /usr/local/lib/python3.10/dist-packages (from requests~=2.0->gradio==3.40.1) (1.26.18)\n",
            "Requirement already satisfied: certifi>=2017.4.17 in /usr/local/lib/python3.10/dist-packages (from requests~=2.0->gradio==3.40.1) (2023.11.17)\n",
            "Requirement already satisfied: click>=7.0 in /usr/local/lib/python3.10/dist-packages (from uvicorn>=0.14.0->gradio==3.40.1) (8.1.7)\n",
            "Requirement already satisfied: h11>=0.8 in /usr/local/lib/python3.10/dist-packages (from uvicorn>=0.14.0->gradio==3.40.1) (0.14.0)\n",
            "Requirement already satisfied: starlette<0.33.0,>=0.29.0 in /usr/local/lib/python3.10/dist-packages (from fastapi->gradio==3.40.1) (0.32.0.post1)\n",
            "Requirement already satisfied: anyio in /usr/local/lib/python3.10/dist-packages (from httpx->gradio==3.40.1) (3.7.1)\n",
            "Collecting httpcore==1.* (from httpx->gradio==3.40.1)\n",
            "  Downloading httpcore-1.0.2-py3-none-any.whl (76 kB)\n",
            "\u001b[2K     \u001b[90m━━━━━━━━━━━━━━━━━━━━━━━━━━━━━━━━━━━━━━━━\u001b[0m \u001b[32m76.9/76.9 kB\u001b[0m \u001b[31m10.1 MB/s\u001b[0m eta \u001b[36m0:00:00\u001b[0m\n",
            "\u001b[?25hRequirement already satisfied: sniffio in /usr/local/lib/python3.10/dist-packages (from httpx->gradio==3.40.1) (1.3.0)\n",
            "Requirement already satisfied: jsonschema-specifications>=2023.03.6 in /usr/local/lib/python3.10/dist-packages (from jsonschema>=3.0->altair<6.0,>=4.2.0->gradio==3.40.1) (2023.11.2)\n",
            "Requirement already satisfied: referencing>=0.28.4 in /usr/local/lib/python3.10/dist-packages (from jsonschema>=3.0->altair<6.0,>=4.2.0->gradio==3.40.1) (0.32.0)\n",
            "Requirement already satisfied: rpds-py>=0.7.1 in /usr/local/lib/python3.10/dist-packages (from jsonschema>=3.0->altair<6.0,>=4.2.0->gradio==3.40.1) (0.15.2)\n",
            "Requirement already satisfied: uc-micro-py in /usr/local/lib/python3.10/dist-packages (from linkify-it-py<3,>=1->markdown-it-py[linkify]>=2.0.0->gradio==3.40.1) (1.0.2)\n",
            "Requirement already satisfied: six>=1.5 in /usr/local/lib/python3.10/dist-packages (from python-dateutil>=2.7->matplotlib~=3.0->gradio==3.40.1) (1.16.0)\n",
            "Requirement already satisfied: exceptiongroup in /usr/local/lib/python3.10/dist-packages (from anyio->httpx->gradio==3.40.1) (1.2.0)\n",
            "Building wheels for collected packages: ffmpy\n",
            "  Building wheel for ffmpy (setup.py) ... \u001b[?25l\u001b[?25hdone\n",
            "  Created wheel for ffmpy: filename=ffmpy-0.3.1-py3-none-any.whl size=5579 sha256=f5d22a02a6e595447b8c5aa1632725139910a5dfcbc67bfe490ae368ff3fac52\n",
            "  Stored in directory: /root/.cache/pip/wheels/01/a6/d1/1c0828c304a4283b2c1639a09ad86f83d7c487ef34c6b4a1bf\n",
            "Successfully built ffmpy\n",
            "Installing collected packages: pydub, ffmpy, websockets, semantic-version, python-multipart, orjson, markdown-it-py, httpcore, aiofiles, mdit-py-plugins, httpx, gradio-client, gradio\n",
            "  Attempting uninstall: websockets\n",
            "    Found existing installation: websockets 12.0\n",
            "    Uninstalling websockets-12.0:\n",
            "      Successfully uninstalled websockets-12.0\n",
            "  Attempting uninstall: markdown-it-py\n",
            "    Found existing installation: markdown-it-py 3.0.0\n",
            "    Uninstalling markdown-it-py-3.0.0:\n",
            "      Successfully uninstalled markdown-it-py-3.0.0\n",
            "  Attempting uninstall: mdit-py-plugins\n",
            "    Found existing installation: mdit-py-plugins 0.4.0\n",
            "    Uninstalling mdit-py-plugins-0.4.0:\n",
            "      Successfully uninstalled mdit-py-plugins-0.4.0\n",
            "\u001b[31mERROR: pip's dependency resolver does not currently take into account all the packages that are installed. This behaviour is the source of the following dependency conflicts.\n",
            "lida 0.0.10 requires kaleido, which is not installed.\u001b[0m\u001b[31m\n",
            "\u001b[0mSuccessfully installed aiofiles-23.2.1 ffmpy-0.3.1 gradio-3.40.1 gradio-client-0.8.0 httpcore-1.0.2 httpx-0.26.0 markdown-it-py-2.2.0 mdit-py-plugins-0.3.3 orjson-3.9.10 pydub-0.25.1 python-multipart-0.0.6 semantic-version-2.10.0 websockets-11.0.3\n"
          ]
        }
      ]
    },
    {
      "cell_type": "markdown",
      "source": [
        "To create a public link, set"
      ],
      "metadata": {
        "id": "bAmTjGAEfZAh"
      }
    },
    {
      "cell_type": "code",
      "source": [
        "import gradio as gr\n",
        "\n",
        "# 인터페이스 생성\n",
        "with gr.Blocks() as demo:\n",
        "  chatbot = gr.Chatbot(label='건강FAQ챗봇') # 레이블 좌측 상단에 구성\n",
        "  msg = gr.Textbox(label='질문해주세요!') # 레이블 하단에 구성\n",
        "  clear = gr.Button('대화 초기화') # 초기화 버튼\n",
        "\n",
        "  # 챗봇 답변 처리하는 함수\n",
        "  def respond(message, chat_history):\n",
        "    result = qa_chain(message)\n",
        "    bot_message = result['result']\n",
        "    bot_message += '# sources:'\n",
        "\n",
        "    # 답변 출처 표기\n",
        "    for i, doc in enumerate(result['source_documents']):\n",
        "      bot_message += '['+str(i+1)+']' + doc.metadata['source'] + ' '\n",
        "\n",
        "    # 채팅 기록에 사용자의 메세지와 봇의 응답을 추가\n",
        "    chat_history.append((message, bot_message))\n",
        "    return '', chat_history\n",
        "\n",
        "  # 사용자의 입력을 제출하면 respond 함수가 호출\n",
        "  msg.submit(respond, [msg, chatbot], [msg, chatbot])\n",
        "\n",
        "  # '초기화' 버튼을 클릭하면 채팅 기록을 초기화\n",
        "  clear.click(lambda: None, None, chatbot, queue = False)\n",
        "\n",
        "\n",
        "demo.launch(debug=True)"
      ],
      "metadata": {
        "colab": {
          "base_uri": "https://localhost:8080/",
          "height": 638
        },
        "id": "uZ1Hk8tnfg29",
        "outputId": "70a8382c-f7fc-4184-b144-6c63a0f269a5"
      },
      "execution_count": 26,
      "outputs": [
        {
          "output_type": "stream",
          "name": "stdout",
          "text": [
            "Colab notebook detected. This cell will run indefinitely so that you can see errors and logs. To turn off, set debug=False in launch().\n",
            "Note: opening Chrome Inspector may crash demo inside Colab notebooks.\n",
            "\n",
            "To create a public link, set `share=True` in `launch()`.\n"
          ]
        },
        {
          "output_type": "display_data",
          "data": {
            "text/plain": [
              "<IPython.core.display.Javascript object>"
            ],
            "application/javascript": [
              "(async (port, path, width, height, cache, element) => {\n",
              "                        if (!google.colab.kernel.accessAllowed && !cache) {\n",
              "                            return;\n",
              "                        }\n",
              "                        element.appendChild(document.createTextNode(''));\n",
              "                        const url = await google.colab.kernel.proxyPort(port, {cache});\n",
              "\n",
              "                        const external_link = document.createElement('div');\n",
              "                        external_link.innerHTML = `\n",
              "                            <div style=\"font-family: monospace; margin-bottom: 0.5rem\">\n",
              "                                Running on <a href=${new URL(path, url).toString()} target=\"_blank\">\n",
              "                                    https://localhost:${port}${path}\n",
              "                                </a>\n",
              "                            </div>\n",
              "                        `;\n",
              "                        element.appendChild(external_link);\n",
              "\n",
              "                        const iframe = document.createElement('iframe');\n",
              "                        iframe.src = new URL(path, url).toString();\n",
              "                        iframe.height = height;\n",
              "                        iframe.allow = \"autoplay; camera; microphone; clipboard-read; clipboard-write;\"\n",
              "                        iframe.width = width;\n",
              "                        iframe.style.border = 0;\n",
              "                        element.appendChild(iframe);\n",
              "                    })(7860, \"/\", \"100%\", 500, false, window.element)"
            ]
          },
          "metadata": {}
        },
        {
          "output_type": "stream",
          "name": "stdout",
          "text": [
            "Keyboard interruption in main thread... closing server.\n"
          ]
        },
        {
          "output_type": "execute_result",
          "data": {
            "text/plain": []
          },
          "metadata": {},
          "execution_count": 26
        }
      ]
    }
  ]
}